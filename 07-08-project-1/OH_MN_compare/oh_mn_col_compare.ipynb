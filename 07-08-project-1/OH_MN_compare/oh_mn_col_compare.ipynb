{
 "cells": [
  {
   "cell_type": "code",
   "execution_count": 3,
   "metadata": {},
   "outputs": [],
   "source": [
    "# Import Dependencies\n",
    "import os\n",
    "import pandas as pd \n",
    "import csv\n",
    "import matplotlib.pyplot as plt\n",
    "import numpy as np"
   ]
  },
  {
   "cell_type": "code",
   "execution_count": 12,
   "metadata": {},
   "outputs": [],
   "source": [
    "# Path to data set in a variable\n",
    "data_file = os.path.join(os.getcwd(), 'ohio_mn_col_compare.csv')\n",
    "data_file2 = os.path.join(os.getcwd(), 'census_data_more.csv')"
   ]
  },
  {
   "cell_type": "code",
   "execution_count": 15,
   "metadata": {},
   "outputs": [
    {
     "data": {
      "text/html": [
       "<div>\n",
       "<style scoped>\n",
       "    .dataframe tbody tr th:only-of-type {\n",
       "        vertical-align: middle;\n",
       "    }\n",
       "\n",
       "    .dataframe tbody tr th {\n",
       "        vertical-align: top;\n",
       "    }\n",
       "\n",
       "    .dataframe thead th {\n",
       "        text-align: right;\n",
       "    }\n",
       "</style>\n",
       "<table border=\"1\" class=\"dataframe\">\n",
       "  <thead>\n",
       "    <tr style=\"text-align: right;\">\n",
       "      <th></th>\n",
       "      <th>Type</th>\n",
       "      <th>National Average</th>\n",
       "      <th>MN</th>\n",
       "      <th>Ohio</th>\n",
       "    </tr>\n",
       "  </thead>\n",
       "  <tbody>\n",
       "    <tr>\n",
       "      <th>0</th>\n",
       "      <td>Food</td>\n",
       "      <td>904.526511</td>\n",
       "      <td>932.501558</td>\n",
       "      <td>895.481246</td>\n",
       "    </tr>\n",
       "    <tr>\n",
       "      <th>1</th>\n",
       "      <td>Health Care</td>\n",
       "      <td>481.364922</td>\n",
       "      <td>512.090343</td>\n",
       "      <td>466.923974</td>\n",
       "    </tr>\n",
       "    <tr>\n",
       "      <th>2</th>\n",
       "      <td>Housing</td>\n",
       "      <td>1083.586495</td>\n",
       "      <td>976.204050</td>\n",
       "      <td>834.361601</td>\n",
       "    </tr>\n",
       "    <tr>\n",
       "      <th>3</th>\n",
       "      <td>Transport</td>\n",
       "      <td>810.855911</td>\n",
       "      <td>794.956776</td>\n",
       "      <td>794.638793</td>\n",
       "    </tr>\n",
       "    <tr>\n",
       "      <th>4</th>\n",
       "      <td>Other</td>\n",
       "      <td>485.961939</td>\n",
       "      <td>522.539720</td>\n",
       "      <td>481.102320</td>\n",
       "    </tr>\n",
       "  </tbody>\n",
       "</table>\n",
       "</div>"
      ],
      "text/plain": [
       "          Type  National Average          MN        Ohio\n",
       "0         Food        904.526511  932.501558  895.481246\n",
       "1  Health Care        481.364922  512.090343  466.923974\n",
       "2      Housing       1083.586495  976.204050  834.361601\n",
       "3    Transport        810.855911  794.956776  794.638793\n",
       "4        Other        485.961939  522.539720  481.102320"
      ]
     },
     "execution_count": 15,
     "metadata": {},
     "output_type": "execute_result"
    }
   ],
   "source": [
    "# Use Pandas to read data\n",
    "data_file_df = pd.read_csv(data_file)\n",
    "data_file_df.head()"
   ]
  },
  {
   "cell_type": "code",
   "execution_count": 6,
   "metadata": {},
   "outputs": [
    {
     "data": {
      "text/html": [
       "<div>\n",
       "<style scoped>\n",
       "    .dataframe tbody tr th:only-of-type {\n",
       "        vertical-align: middle;\n",
       "    }\n",
       "\n",
       "    .dataframe tbody tr th {\n",
       "        vertical-align: top;\n",
       "    }\n",
       "\n",
       "    .dataframe thead th {\n",
       "        text-align: right;\n",
       "    }\n",
       "</style>\n",
       "<table border=\"1\" class=\"dataframe\">\n",
       "  <thead>\n",
       "    <tr style=\"text-align: right;\">\n",
       "      <th></th>\n",
       "      <th>Type</th>\n",
       "      <th>National Average</th>\n",
       "      <th>Minnesota</th>\n",
       "      <th>Ohio</th>\n",
       "    </tr>\n",
       "  </thead>\n",
       "  <tbody>\n",
       "    <tr>\n",
       "      <th>0</th>\n",
       "      <td>Food</td>\n",
       "      <td>904.526511</td>\n",
       "      <td>932.501558</td>\n",
       "      <td>895.481246</td>\n",
       "    </tr>\n",
       "    <tr>\n",
       "      <th>1</th>\n",
       "      <td>Health Care</td>\n",
       "      <td>481.364922</td>\n",
       "      <td>512.090343</td>\n",
       "      <td>466.923974</td>\n",
       "    </tr>\n",
       "    <tr>\n",
       "      <th>2</th>\n",
       "      <td>Housing</td>\n",
       "      <td>1083.586495</td>\n",
       "      <td>976.204050</td>\n",
       "      <td>834.361601</td>\n",
       "    </tr>\n",
       "    <tr>\n",
       "      <th>3</th>\n",
       "      <td>Transport</td>\n",
       "      <td>810.855911</td>\n",
       "      <td>794.956776</td>\n",
       "      <td>794.638793</td>\n",
       "    </tr>\n",
       "    <tr>\n",
       "      <th>4</th>\n",
       "      <td>Other</td>\n",
       "      <td>485.961939</td>\n",
       "      <td>522.539720</td>\n",
       "      <td>481.102320</td>\n",
       "    </tr>\n",
       "  </tbody>\n",
       "</table>\n",
       "</div>"
      ],
      "text/plain": [
       "          Type  National Average   Minnesota        Ohio\n",
       "0         Food        904.526511  932.501558  895.481246\n",
       "1  Health Care        481.364922  512.090343  466.923974\n",
       "2      Housing       1083.586495  976.204050  834.361601\n",
       "3    Transport        810.855911  794.956776  794.638793\n",
       "4        Other        485.961939  522.539720  481.102320"
      ]
     },
     "execution_count": 6,
     "metadata": {},
     "output_type": "execute_result"
    }
   ],
   "source": [
    "# Using .rename(columns={}) in order to rename columns\n",
    "renamed_df = data_file_df.rename(columns={\"MN\":\"Minnesota\"})\n",
    "renamed_df.head()"
   ]
  },
  {
   "cell_type": "code",
   "execution_count": 7,
   "metadata": {},
   "outputs": [],
   "source": [
    "# # # Use Map to format all the columns\n",
    "# data_file_df[\"MN\"] = data_file_df[\"MN\"].map(\"${:.2f}\".format)\n",
    "# data_file_df[\"Ohio\"] = data_file_df[\"Ohio\"].map(\"${:.2f}\".format)\n",
    "# data_file_df[\"National Average\"] = data_file_df[\"National Average\"].map(\"${:.2f}\".format)\n",
    "# data_file_df\n"
   ]
  },
  {
   "cell_type": "code",
   "execution_count": 8,
   "metadata": {},
   "outputs": [
    {
     "data": {
      "text/plain": [
       "Type                 object\n",
       "National Average    float64\n",
       "MN                  float64\n",
       "Ohio                float64\n",
       "dtype: object"
      ]
     },
     "execution_count": 8,
     "metadata": {},
     "output_type": "execute_result"
    }
   ],
   "source": [
    "data_file_df.dtypes"
   ]
  },
  {
   "cell_type": "code",
   "execution_count": 9,
   "metadata": {},
   "outputs": [],
   "source": [
    "data_file_df[\"National Average\"]=data_file_df[\"National Average\"].astype(float)\n",
    "data_file_df[\"MN\"]=data_file_df[\"MN\"].astype(float)\n",
    "data_file_df[\"Ohio\"]=data_file_df[\"Ohio\"].astype(float)"
   ]
  },
  {
   "cell_type": "code",
   "execution_count": 10,
   "metadata": {},
   "outputs": [
    {
     "data": {
      "image/png": "[encoded data removed]",
      "text/plain": [
       "<Figure size 1000x500 with 1 Axes>"
      ]
     },
     "metadata": {},
     "output_type": "display_data"
    }
   ],
   "source": [
    "x_axis = np.arange(len(renamed_df))\n",
    "\n",
    "multi_plot = renamed_df.plot(kind=\"bar\", figsize=(10,5))\n",
    "multi_plot.set_xticklabels(renamed_df[\"Type\"], rotation=45)\n",
    "plt.title(\"Cost of Living\",fontsize=15)\n",
    "plt.savefig(\"col.png\")\n",
    "\n",
    "plt.show()\n"
   ]
  },
  {
   "cell_type": "code",
   "execution_count": 16,
   "metadata": {},
   "outputs": [
    {
     "data": {
      "text/html": [
       "<div>\n",
       "<style scoped>\n",
       "    .dataframe tbody tr th:only-of-type {\n",
       "        vertical-align: middle;\n",
       "    }\n",
       "\n",
       "    .dataframe tbody tr th {\n",
       "        vertical-align: top;\n",
       "    }\n",
       "\n",
       "    .dataframe thead th {\n",
       "        text-align: right;\n",
       "    }\n",
       "</style>\n",
       "<table border=\"1\" class=\"dataframe\">\n",
       "  <thead>\n",
       "    <tr style=\"text-align: right;\">\n",
       "      <th></th>\n",
       "      <th>Name</th>\n",
       "      <th>Population</th>\n",
       "      <th>B19001_001E</th>\n",
       "      <th>Median Household Income</th>\n",
       "      <th>Aggregate Income</th>\n",
       "      <th>Aggregate Household Income</th>\n",
       "      <th>Ratio of Income to Poverty Level</th>\n",
       "      <th>Median Value</th>\n",
       "      <th>Earnings</th>\n",
       "      <th>Wage or Salary Income</th>\n",
       "      <th>...</th>\n",
       "      <th>Supplemental Income</th>\n",
       "      <th>Public Assistance Income</th>\n",
       "      <th>Public Assistance or Food Stamp/SNAP Income</th>\n",
       "      <th>Retirement Income</th>\n",
       "      <th>Other Types of Income</th>\n",
       "      <th>Aggregate Earnings for Households</th>\n",
       "      <th>Value</th>\n",
       "      <th>Selected Monthly Owner Costs</th>\n",
       "      <th>Monthly Housing Costs</th>\n",
       "      <th>State</th>\n",
       "    </tr>\n",
       "  </thead>\n",
       "  <tbody>\n",
       "    <tr>\n",
       "      <th>0</th>\n",
       "      <td>Alabama</td>\n",
       "      <td>5039877.0</td>\n",
       "      <td>1967559.0</td>\n",
       "      <td>53913.0</td>\n",
       "      <td>1.542611e+11</td>\n",
       "      <td>1.493825e+11</td>\n",
       "      <td>4920613.0</td>\n",
       "      <td>172800.0</td>\n",
       "      <td>1967559.0</td>\n",
       "      <td>1967559.0</td>\n",
       "      <td>...</td>\n",
       "      <td>1967559.0</td>\n",
       "      <td>1967559.0</td>\n",
       "      <td>1967559.0</td>\n",
       "      <td>1967559.0</td>\n",
       "      <td>1967559.0</td>\n",
       "      <td>1.061057e+11</td>\n",
       "      <td>1377932.0</td>\n",
       "      <td>1377932.0</td>\n",
       "      <td>1967559.0</td>\n",
       "      <td>1</td>\n",
       "    </tr>\n",
       "    <tr>\n",
       "      <th>1</th>\n",
       "      <td>Puerto Rico</td>\n",
       "      <td>3263584.0</td>\n",
       "      <td>1165982.0</td>\n",
       "      <td>22237.0</td>\n",
       "      <td>4.721860e+10</td>\n",
       "      <td>4.133695e+10</td>\n",
       "      <td>3235303.0</td>\n",
       "      <td>114100.0</td>\n",
       "      <td>1165982.0</td>\n",
       "      <td>1165982.0</td>\n",
       "      <td>...</td>\n",
       "      <td>1165982.0</td>\n",
       "      <td>1165982.0</td>\n",
       "      <td>1165982.0</td>\n",
       "      <td>1165982.0</td>\n",
       "      <td>1165982.0</td>\n",
       "      <td>2.413150e+10</td>\n",
       "      <td>800555.0</td>\n",
       "      <td>800555.0</td>\n",
       "      <td>1165982.0</td>\n",
       "      <td>72</td>\n",
       "    </tr>\n",
       "    <tr>\n",
       "      <th>2</th>\n",
       "      <td>Arizona</td>\n",
       "      <td>7276316.0</td>\n",
       "      <td>2817723.0</td>\n",
       "      <td>69056.0</td>\n",
       "      <td>2.640942e+11</td>\n",
       "      <td>2.625475e+11</td>\n",
       "      <td>7126930.0</td>\n",
       "      <td>336300.0</td>\n",
       "      <td>2817723.0</td>\n",
       "      <td>2817723.0</td>\n",
       "      <td>...</td>\n",
       "      <td>2817723.0</td>\n",
       "      <td>2817723.0</td>\n",
       "      <td>2817723.0</td>\n",
       "      <td>2817723.0</td>\n",
       "      <td>2817723.0</td>\n",
       "      <td>1.856334e+11</td>\n",
       "      <td>1905690.0</td>\n",
       "      <td>1905690.0</td>\n",
       "      <td>2817723.0</td>\n",
       "      <td>4</td>\n",
       "    </tr>\n",
       "    <tr>\n",
       "      <th>3</th>\n",
       "      <td>Arkansas</td>\n",
       "      <td>3025891.0</td>\n",
       "      <td>1183675.0</td>\n",
       "      <td>52528.0</td>\n",
       "      <td>8.851379e+10</td>\n",
       "      <td>8.655705e+10</td>\n",
       "      <td>2944289.0</td>\n",
       "      <td>162300.0</td>\n",
       "      <td>1183675.0</td>\n",
       "      <td>1183675.0</td>\n",
       "      <td>...</td>\n",
       "      <td>1183675.0</td>\n",
       "      <td>1183675.0</td>\n",
       "      <td>1183675.0</td>\n",
       "      <td>1183675.0</td>\n",
       "      <td>1183675.0</td>\n",
       "      <td>6.107493e+10</td>\n",
       "      <td>793038.0</td>\n",
       "      <td>793038.0</td>\n",
       "      <td>1183675.0</td>\n",
       "      <td>5</td>\n",
       "    </tr>\n",
       "    <tr>\n",
       "      <th>4</th>\n",
       "      <td>California</td>\n",
       "      <td>39237836.0</td>\n",
       "      <td>13429063.0</td>\n",
       "      <td>84907.0</td>\n",
       "      <td>1.663512e+12</td>\n",
       "      <td>1.624283e+12</td>\n",
       "      <td>38481790.0</td>\n",
       "      <td>648100.0</td>\n",
       "      <td>13429063.0</td>\n",
       "      <td>13429063.0</td>\n",
       "      <td>...</td>\n",
       "      <td>13429063.0</td>\n",
       "      <td>13429063.0</td>\n",
       "      <td>13429063.0</td>\n",
       "      <td>13429063.0</td>\n",
       "      <td>13429063.0</td>\n",
       "      <td>1.214226e+12</td>\n",
       "      <td>7502706.0</td>\n",
       "      <td>7502706.0</td>\n",
       "      <td>13429063.0</td>\n",
       "      <td>6</td>\n",
       "    </tr>\n",
       "  </tbody>\n",
       "</table>\n",
       "<p>5 rows × 23 columns</p>\n",
       "</div>"
      ],
      "text/plain": [
       "          Name  Population  B19001_001E  Median Household Income  \\\n",
       "0      Alabama   5039877.0    1967559.0                  53913.0   \n",
       "1  Puerto Rico   3263584.0    1165982.0                  22237.0   \n",
       "2      Arizona   7276316.0    2817723.0                  69056.0   \n",
       "3     Arkansas   3025891.0    1183675.0                  52528.0   \n",
       "4   California  39237836.0   13429063.0                  84907.0   \n",
       "\n",
       "   Aggregate Income  Aggregate Household Income  \\\n",
       "0      1.542611e+11                1.493825e+11   \n",
       "1      4.721860e+10                4.133695e+10   \n",
       "2      2.640942e+11                2.625475e+11   \n",
       "3      8.851379e+10                8.655705e+10   \n",
       "4      1.663512e+12                1.624283e+12   \n",
       "\n",
       "   Ratio of Income to Poverty Level  Median Value    Earnings  \\\n",
       "0                         4920613.0      172800.0   1967559.0   \n",
       "1                         3235303.0      114100.0   1165982.0   \n",
       "2                         7126930.0      336300.0   2817723.0   \n",
       "3                         2944289.0      162300.0   1183675.0   \n",
       "4                        38481790.0      648100.0  13429063.0   \n",
       "\n",
       "   Wage or Salary Income  ...  Supplemental Income  Public Assistance Income  \\\n",
       "0              1967559.0  ...            1967559.0                 1967559.0   \n",
       "1              1165982.0  ...            1165982.0                 1165982.0   \n",
       "2              2817723.0  ...            2817723.0                 2817723.0   \n",
       "3              1183675.0  ...            1183675.0                 1183675.0   \n",
       "4             13429063.0  ...           13429063.0                13429063.0   \n",
       "\n",
       "   Public Assistance or Food Stamp/SNAP Income  Retirement Income  \\\n",
       "0                                    1967559.0          1967559.0   \n",
       "1                                    1165982.0          1165982.0   \n",
       "2                                    2817723.0          2817723.0   \n",
       "3                                    1183675.0          1183675.0   \n",
       "4                                   13429063.0         13429063.0   \n",
       "\n",
       "   Other Types of Income  Aggregate Earnings for Households      Value  \\\n",
       "0              1967559.0                       1.061057e+11  1377932.0   \n",
       "1              1165982.0                       2.413150e+10   800555.0   \n",
       "2              2817723.0                       1.856334e+11  1905690.0   \n",
       "3              1183675.0                       6.107493e+10   793038.0   \n",
       "4             13429063.0                       1.214226e+12  7502706.0   \n",
       "\n",
       "   Selected Monthly Owner Costs  Monthly Housing Costs  State  \n",
       "0                     1377932.0              1967559.0      1  \n",
       "1                      800555.0              1165982.0     72  \n",
       "2                     1905690.0              2817723.0      4  \n",
       "3                      793038.0              1183675.0      5  \n",
       "4                     7502706.0             13429063.0      6  \n",
       "\n",
       "[5 rows x 23 columns]"
      ]
     },
     "execution_count": 16,
     "metadata": {},
     "output_type": "execute_result"
    }
   ],
   "source": [
    "# Use Pandas to read data\n",
    "comp_df = pd.read_csv(data_file2)\n",
    "comp_df.head()"
   ]
  },
  {
   "cell_type": "code",
   "execution_count": 17,
   "metadata": {},
   "outputs": [
    {
     "data": {
      "text/html": [
       "<div>\n",
       "<style scoped>\n",
       "    .dataframe tbody tr th:only-of-type {\n",
       "        vertical-align: middle;\n",
       "    }\n",
       "\n",
       "    .dataframe tbody tr th {\n",
       "        vertical-align: top;\n",
       "    }\n",
       "\n",
       "    .dataframe thead th {\n",
       "        text-align: right;\n",
       "    }\n",
       "</style>\n",
       "<table border=\"1\" class=\"dataframe\">\n",
       "  <thead>\n",
       "    <tr style=\"text-align: right;\">\n",
       "      <th></th>\n",
       "      <th>Name</th>\n",
       "      <th>Population</th>\n",
       "      <th>B19001_001E</th>\n",
       "      <th>Median Household Income</th>\n",
       "      <th>Aggregate Income</th>\n",
       "      <th>Aggregate Household Income</th>\n",
       "      <th>Ratio of Income to Poverty Level</th>\n",
       "      <th>Median Value</th>\n",
       "      <th>Earnings</th>\n",
       "      <th>Wage or Salary Income</th>\n",
       "      <th>...</th>\n",
       "      <th>Supplemental Income</th>\n",
       "      <th>Public Assistance Income</th>\n",
       "      <th>Public Assistance or Food Stamp/SNAP Income</th>\n",
       "      <th>Retirement Income</th>\n",
       "      <th>Other Types of Income</th>\n",
       "      <th>Aggregate Earnings for Households</th>\n",
       "      <th>Value</th>\n",
       "      <th>Selected Monthly Owner Costs</th>\n",
       "      <th>Monthly Housing Costs</th>\n",
       "      <th>State</th>\n",
       "    </tr>\n",
       "  </thead>\n",
       "  <tbody>\n",
       "    <tr>\n",
       "      <th>23</th>\n",
       "      <td>Minnesota</td>\n",
       "      <td>5707390.0</td>\n",
       "      <td>2281033.0</td>\n",
       "      <td>77720.0</td>\n",
       "      <td>2.382989e+11</td>\n",
       "      <td>2.356419e+11</td>\n",
       "      <td>5587189.0</td>\n",
       "      <td>285400.0</td>\n",
       "      <td>2281033.0</td>\n",
       "      <td>2281033.0</td>\n",
       "      <td>...</td>\n",
       "      <td>2281033.0</td>\n",
       "      <td>2281033.0</td>\n",
       "      <td>2281033.0</td>\n",
       "      <td>2281033.0</td>\n",
       "      <td>2281033.0</td>\n",
       "      <td>1.783962e+11</td>\n",
       "      <td>1665101.0</td>\n",
       "      <td>1665101.0</td>\n",
       "      <td>2281033.0</td>\n",
       "      <td>27</td>\n",
       "    </tr>\n",
       "    <tr>\n",
       "      <th>35</th>\n",
       "      <td>Ohio</td>\n",
       "      <td>11780017.0</td>\n",
       "      <td>4832922.0</td>\n",
       "      <td>62262.0</td>\n",
       "      <td>4.136991e+11</td>\n",
       "      <td>4.087312e+11</td>\n",
       "      <td>11470517.0</td>\n",
       "      <td>180200.0</td>\n",
       "      <td>4832922.0</td>\n",
       "      <td>4832922.0</td>\n",
       "      <td>...</td>\n",
       "      <td>4832922.0</td>\n",
       "      <td>4832922.0</td>\n",
       "      <td>4832922.0</td>\n",
       "      <td>4832922.0</td>\n",
       "      <td>4832922.0</td>\n",
       "      <td>2.985310e+11</td>\n",
       "      <td>3246486.0</td>\n",
       "      <td>3246486.0</td>\n",
       "      <td>4832922.0</td>\n",
       "      <td>39</td>\n",
       "    </tr>\n",
       "  </tbody>\n",
       "</table>\n",
       "<p>2 rows × 23 columns</p>\n",
       "</div>"
      ],
      "text/plain": [
       "         Name  Population  B19001_001E  Median Household Income  \\\n",
       "23  Minnesota   5707390.0    2281033.0                  77720.0   \n",
       "35       Ohio  11780017.0    4832922.0                  62262.0   \n",
       "\n",
       "    Aggregate Income  Aggregate Household Income  \\\n",
       "23      2.382989e+11                2.356419e+11   \n",
       "35      4.136991e+11                4.087312e+11   \n",
       "\n",
       "    Ratio of Income to Poverty Level  Median Value   Earnings  \\\n",
       "23                         5587189.0      285400.0  2281033.0   \n",
       "35                        11470517.0      180200.0  4832922.0   \n",
       "\n",
       "    Wage or Salary Income  ...  Supplemental Income  Public Assistance Income  \\\n",
       "23              2281033.0  ...            2281033.0                 2281033.0   \n",
       "35              4832922.0  ...            4832922.0                 4832922.0   \n",
       "\n",
       "    Public Assistance or Food Stamp/SNAP Income  Retirement Income  \\\n",
       "23                                    2281033.0          2281033.0   \n",
       "35                                    4832922.0          4832922.0   \n",
       "\n",
       "    Other Types of Income  Aggregate Earnings for Households      Value  \\\n",
       "23              2281033.0                       1.783962e+11  1665101.0   \n",
       "35              4832922.0                       2.985310e+11  3246486.0   \n",
       "\n",
       "    Selected Monthly Owner Costs  Monthly Housing Costs  State  \n",
       "23                     1665101.0              2281033.0     27  \n",
       "35                     3246486.0              4832922.0     39  \n",
       "\n",
       "[2 rows x 23 columns]"
      ]
     },
     "execution_count": 17,
     "metadata": {},
     "output_type": "execute_result"
    }
   ],
   "source": [
    "# Filter by rows \"Minnesota\"and \"Ohio\"\n",
    "comp_df2 = comp_df.apply(lambda row: row[comp_df['Name'].isin(['Minnesota','Ohio'])])\n",
    "comp_df2"
   ]
  },
  {
   "cell_type": "code",
   "execution_count": 18,
   "metadata": {},
   "outputs": [
    {
     "data": {
      "text/html": [
       "<div>\n",
       "<style scoped>\n",
       "    .dataframe tbody tr th:only-of-type {\n",
       "        vertical-align: middle;\n",
       "    }\n",
       "\n",
       "    .dataframe tbody tr th {\n",
       "        vertical-align: top;\n",
       "    }\n",
       "\n",
       "    .dataframe thead th {\n",
       "        text-align: right;\n",
       "    }\n",
       "</style>\n",
       "<table border=\"1\" class=\"dataframe\">\n",
       "  <thead>\n",
       "    <tr style=\"text-align: right;\">\n",
       "      <th></th>\n",
       "      <th>Name</th>\n",
       "      <th>Median Household Income</th>\n",
       "      <th>Median Value</th>\n",
       "      <th>Wage or Salary Income</th>\n",
       "    </tr>\n",
       "  </thead>\n",
       "  <tbody>\n",
       "    <tr>\n",
       "      <th>23</th>\n",
       "      <td>Minnesota</td>\n",
       "      <td>77720.0</td>\n",
       "      <td>285400.0</td>\n",
       "      <td>2281033.0</td>\n",
       "    </tr>\n",
       "    <tr>\n",
       "      <th>35</th>\n",
       "      <td>Ohio</td>\n",
       "      <td>62262.0</td>\n",
       "      <td>180200.0</td>\n",
       "      <td>4832922.0</td>\n",
       "    </tr>\n",
       "  </tbody>\n",
       "</table>\n",
       "</div>"
      ],
      "text/plain": [
       "         Name  Median Household Income  Median Value  Wage or Salary Income\n",
       "23  Minnesota                  77720.0      285400.0              2281033.0\n",
       "35       Ohio                  62262.0      180200.0              4832922.0"
      ]
     },
     "execution_count": 18,
     "metadata": {},
     "output_type": "execute_result"
    }
   ],
   "source": [
    "comp_df3 = comp_df2.filter(items=['Name', 'Median Household Income','Median Value','Wage or Salary Income'])\n",
    "comp_df3"
   ]
  },
  {
   "cell_type": "code",
   "execution_count": 19,
   "metadata": {},
   "outputs": [
    {
     "data": {
      "text/plain": [
       "Name                        object\n",
       "Median Household Income    float64\n",
       "Median Value               float64\n",
       "Wage or Salary Income      float64\n",
       "dtype: object"
      ]
     },
     "execution_count": 19,
     "metadata": {},
     "output_type": "execute_result"
    }
   ],
   "source": [
    "comp_df3.dtypes"
   ]
  },
  {
   "cell_type": "code",
   "execution_count": 20,
   "metadata": {},
   "outputs": [],
   "source": [
    "# Seting x axis and tick_locations\n",
    "x_axis = np.arange(len(comp_df3))\n",
    "tick_locations = [value for value in x_axis]"
   ]
  },
  {
   "cell_type": "code",
   "execution_count": 21,
   "metadata": {},
   "outputs": [
    {
     "data": {
      "image/png": "[encoded data removed]",
      "text/plain": [
       "<Figure size 200x500 with 1 Axes>"
      ]
     },
     "metadata": {},
     "output_type": "display_data"
    }
   ],
   "source": [
    "# Creating ploats\n",
    "\n",
    "plt.figure(figsize=(2,5))\n",
    "plt.bar(x_axis, comp_df3[\"Median Household Income\"], alpha=0.5, align=\"center\")\n",
    "plt.xticks(tick_locations, comp_df3[\"Name\"], rotation=45)\n",
    "plt.title(\"Median Household Income in Minnesota vc. Ohio\", fontsize=15)\n",
    "plt.ylabel(\"Median Household Income\",fontsize=12)\n",
    "plt.savefig(\"mhi.png\")\n",
    "\n",
    "plt.show()"
   ]
  },
  {
   "cell_type": "code",
   "execution_count": 22,
   "metadata": {},
   "outputs": [
    {
     "data": {
      "image/png": "[encoded data removed]",
      "text/plain": [
       "<Figure size 200x500 with 1 Axes>"
      ]
     },
     "metadata": {},
     "output_type": "display_data"
    }
   ],
   "source": [
    "plt.figure(figsize=(2,5))\n",
    "plt.bar(x_axis, comp_df3[\"Median Value\"], alpha=0.5, align=\"center\")\n",
    "plt.xticks(tick_locations, comp_df3[\"Name\"], rotation=45)\n",
    "plt.title(\"Median Value in Minnesota vc. Ohio\", fontsize=15)\n",
    "plt.ylabel(\"Median Value\", fontsize=12)\n",
    "plt.savefig(\"mv.png\")\n",
    "\n",
    "\n",
    "plt.show()"
   ]
  },
  {
   "cell_type": "code",
   "execution_count": 23,
   "metadata": {},
   "outputs": [
    {
     "data": {
      "image/png": "[encoded data removed]",
      "text/plain": [
       "<Figure size 200x500 with 1 Axes>"
      ]
     },
     "metadata": {},
     "output_type": "display_data"
    }
   ],
   "source": [
    "plt.figure(figsize=(2,5))\n",
    "plt.bar(x_axis, comp_df3[\"Wage or Salary Income\"], alpha=0.5, align=\"center\")\n",
    "plt.xticks(tick_locations, comp_df3[\"Name\"], rotation=45)\n",
    "plt.title(\"Wage or Salary Income in Minnesota vc. Ohio\", fontsize=15)\n",
    "plt.ylabel(\"Wage or Salary Income\", fontsize=12)\n",
    "plt.savefig(\"WoSI.png\")\n",
    "\n",
    "\n",
    "plt.show()"
   ]
  },
  {
   "cell_type": "code",
   "execution_count": null,
   "metadata": {},
   "outputs": [],
   "source": []
  }
 ],
 "metadata": {
  "kernelspec": {
   "display_name": "Python 3 (ipykernel)",
   "language": "python",
   "name": "python3"
  },
  "language_info": {
   "codemirror_mode": {
    "name": "ipython",
    "version": 3
   },
   "file_extension": ".py",
   "mimetype": "text/x-python",
   "name": "python",
   "nbconvert_exporter": "python",
   "pygments_lexer": "ipython3",
   "version": "3.11.4"
  },
  "vscode": {
   "interpreter": {
    "hash": "3a84f8baf2525e2e47b8e602c5638dd76c52f6d12bee460e4831c78c7f257067"
   }
  }
 },
 "nbformat": 4,
 "nbformat_minor": 2
}
