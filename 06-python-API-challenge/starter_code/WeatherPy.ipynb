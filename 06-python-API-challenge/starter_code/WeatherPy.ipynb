{
 "cells": [
  {
   "cell_type": "markdown",
   "metadata": {},
   "source": [
    "# WeatherPy\n",
    "----\n",
    "\n",
    "#### Note\n",
    "* Instructions have been included for each segment. You do not have to follow them exactly, but they are included to help you think through the steps."
   ]
  },
  {
   "cell_type": "markdown",
   "metadata": {},
   "source": [
    "# Ilia's Observation"
   ]
  },
  {
   "cell_type": "markdown",
   "metadata": {},
   "source": [
    "\t1. The temperature declines as latitude increases in Northern Hemisphere and the temperature increases as latitude goes up in Southern Hemisphere.\n",
    "    \n",
    "\t2. The humidity declines as latitude goes up in Northern Hemisphere, and it slightly increases with higher latitude in Southern Hemisphere. Southern Hemisphere climates seems to be milder than in the Northern Hemisphere due to more ocean and water.\n",
    "    \n",
    "\t3. There is a lower cloudiness with higher latitude in Northern hemisphere and higher cloudiness as latitude increases in Southern Hemisphere. The wind speed is higher as the latitude goes up in Northern Hemisphere, and it is lower as the latitude increases in Southern Hemisphere. It appears that the latitude doesn't have a significant influence on wind speed."
   ]
  },
  {
   "cell_type": "code",
   "execution_count": 1,
   "metadata": {
    "scrolled": true
   },
   "outputs": [],
   "source": [
    "# Dependencies and Setup\n",
    "import matplotlib.pyplot as plt\n",
    "import pandas as pd\n",
    "import numpy as np\n",
    "import requests\n",
    "import time\n",
    "import scipy.stats as st\n",
    "from datetime import date\n",
    "from datetime import datetime\n",
    "from scipy.stats import linregress\n",
    "import json\n",
    "\n",
    "# Import API key\n",
    "from api_keys import weather_api_key\n",
    "\n",
    "# Incorporated citipy to determine city based on latitude and longitude\n",
    "from citipy import citipy\n",
    "\n",
    "# Output File (CSV)\n",
    "output_data_file = \"output_data/cities.csv\"\n",
    "\n",
    "# Range of latitudes and longitudes\n",
    "lat_range = (-90, 90)\n",
    "lng_range = (-180, 180)"
   ]
  },
  {
   "cell_type": "markdown",
   "metadata": {},
   "source": [
    "## Generate Cities List"
   ]
  },
  {
   "cell_type": "code",
   "execution_count": 2,
   "metadata": {},
   "outputs": [
    {
     "data": {
      "text/plain": [
       "624"
      ]
     },
     "execution_count": 2,
     "metadata": {},
     "output_type": "execute_result"
    }
   ],
   "source": [
    "# List for holding lat_lngs and cities\n",
    "lat_lngs = []\n",
    "cities = []\n",
    "\n",
    "# Create a set of random lat and lng combinations\n",
    "lats = np.random.uniform(lat_range[0], lat_range[1], size=1500)\n",
    "lngs = np.random.uniform(lng_range[0], lng_range[1], size=1500)\n",
    "lat_lngs = zip(lats, lngs)\n",
    "\n",
    "# Identify nearest city for each lat, lng combination\n",
    "for lat_lng in lat_lngs:\n",
    "    city = citipy.nearest_city(lat_lng[0], lat_lng[1]).city_name\n",
    "    \n",
    "    # If the city is unique, then add it to a our cities list\n",
    "    if city not in cities:\n",
    "        cities.append(city)\n",
    "\n",
    "# Print the city count to confirm sufficient count\n",
    "len(cities)"
   ]
  },
  {
   "cell_type": "markdown",
   "metadata": {},
   "source": [
    "### Perform API Calls\n",
    "* Perform a weather check on each city using a series of successive API calls.\n",
    "* Include a print log of each city as it'sbeing processed (with the city number and city name).\n"
   ]
  },
  {
   "cell_type": "code",
   "execution_count": 3,
   "metadata": {},
   "outputs": [],
   "source": [
    "# Save config information\n",
    "base_url = \"http://api.openweathermap.org/data/2.5/weather?\"\n",
    "units = \"imperial\"\n",
    "\n",
    "# Build query URL\n",
    "query_url = f\"{base_url}appid={weather_api_key}&units={units}&q=\""
   ]
  },
  {
   "cell_type": "code",
   "execution_count": 4,
   "metadata": {},
   "outputs": [],
   "source": [
    "# Create a list\n",
    "city_name_list = []\n",
    "cloudiness_list = []\n",
    "country_list = []\n",
    "date_list = []\n",
    "humidity_list = []\n",
    "lat_list = []\n",
    "lng_list = []\n",
    "max_temp_list = []\n",
    "wind_speed_list = []\n",
    "index_counter = 0\n",
    "set_counter = 1"
   ]
  },
  {
   "cell_type": "code",
   "execution_count": 5,
   "metadata": {
    "scrolled": false
   },
   "outputs": [
    {
     "name": "stdout",
     "output_type": "stream",
     "text": [
      "Beginning Data Retrieval \n",
      "-----------------------------\n",
      "Processing Record 1 of Set 1 : hobart\n",
      "Processing Record 2 of Set 1 : souillac\n",
      "Processing Record 3 of Set 1 : victoria\n",
      "Processing Record 4 of Set 1 : kanlagay\n",
      "Processing Record 5 of Set 1 : vaini\n",
      "Processing Record 6 of Set 1 : iqaluit\n",
      "Processing Record 7 of Set 1 : punta arenas\n",
      "Processing Record 8 of Set 1 : carnarvon\n",
      "Processing Record 9 of Set 1 : yulara\n",
      "Processing Record 10 of Set 1 : mataura\n",
      "Processing Record 11 of Set 1 : kapaa\n",
      "Processing Record 12 of Set 1 : sault sainte marie\n",
      "Processing Record 13 of Set 1 : bitung\n",
      "City not found. Skipping...\n",
      "Processing Record 14 of Set 1 : esperance\n",
      "Processing Record 15 of Set 1 : rikitea\n",
      "City not found. Skipping...\n",
      "Processing Record 16 of Set 1 : ilulissat\n",
      "Processing Record 17 of Set 1 : tanabi\n",
      "Processing Record 18 of Set 1 : grand gaube\n",
      "Processing Record 19 of Set 1 : bethel\n",
      "Processing Record 20 of Set 1 : severo-kurilsk\n",
      "Processing Record 21 of Set 1 : arman\n",
      "City not found. Skipping...\n",
      "Processing Record 22 of Set 1 : amapa\n",
      "Processing Record 23 of Set 1 : jamestown\n",
      "Processing Record 24 of Set 1 : puerto carreno\n",
      "City not found. Skipping...\n",
      "Processing Record 25 of Set 1 : puerto ayora\n",
      "Processing Record 26 of Set 1 : kavieng\n",
      "Processing Record 27 of Set 1 : cidreira\n",
      "Processing Record 28 of Set 1 : bredasdorp\n",
      "Processing Record 29 of Set 1 : port alfred\n",
      "Processing Record 30 of Set 1 : atuona\n",
      "Processing Record 31 of Set 1 : clyde river\n",
      "Processing Record 32 of Set 1 : castro\n",
      "Processing Record 33 of Set 1 : taoudenni\n",
      "Processing Record 34 of Set 1 : cape town\n",
      "City not found. Skipping...\n",
      "Processing Record 35 of Set 1 : qaanaaq\n",
      "Processing Record 36 of Set 1 : biak\n",
      "Processing Record 37 of Set 1 : butaritari\n",
      "Processing Record 38 of Set 1 : lagoa\n",
      "City not found. Skipping...\n",
      "Processing Record 39 of Set 1 : palmas de monte alto\n",
      "Processing Record 40 of Set 1 : petropavlovsk-kamchatskiy\n",
      "Processing Record 41 of Set 1 : kabarnet\n",
      "Processing Record 42 of Set 1 : pringsewu\n",
      "City not found. Skipping...\n",
      "Processing Record 43 of Set 1 : kodiak\n",
      "Processing Record 44 of Set 1 : srednekolymsk\n",
      "Processing Record 45 of Set 1 : hilo\n",
      "City not found. Skipping...\n",
      "City not found. Skipping...\n",
      "City not found. Skipping...\n",
      "Processing Record 46 of Set 1 : voyinka\n",
      "Processing Record 47 of Set 1 : noyabrsk\n",
      "Processing Record 48 of Set 1 : makakilo city\n",
      "Processing Record 49 of Set 1 : east london\n",
      "Processing Record 50 of Set 1 : smithers\n",
      "Processing Record 0 of Set 2 : meulaboh\n",
      "Processing Record 1 of Set 2 : voh\n",
      "City not found. Skipping...\n",
      "Processing Record 2 of Set 2 : albany\n",
      "Processing Record 3 of Set 2 : marawi\n",
      "Processing Record 4 of Set 2 : saint-augustin\n",
      "Processing Record 5 of Set 2 : northam\n",
      "Processing Record 6 of Set 2 : hithadhoo\n",
      "Processing Record 7 of Set 2 : vangaindrano\n",
      "Processing Record 8 of Set 2 : port blair\n",
      "Processing Record 9 of Set 2 : busselton\n",
      "Processing Record 10 of Set 2 : lebu\n",
      "Processing Record 11 of Set 2 : hofn\n",
      "Processing Record 12 of Set 2 : bluff\n",
      "Processing Record 13 of Set 2 : khorramabad\n",
      "Processing Record 14 of Set 2 : menongue\n",
      "City not found. Skipping...\n",
      "Processing Record 15 of Set 2 : acarau\n",
      "City not found. Skipping...\n",
      "Processing Record 16 of Set 2 : saint-leu\n",
      "Processing Record 17 of Set 2 : srivardhan\n",
      "Processing Record 18 of Set 2 : wenling\n",
      "Processing Record 19 of Set 2 : manyana\n",
      "Processing Record 20 of Set 2 : avarua\n",
      "Processing Record 21 of Set 2 : upernavik\n",
      "Processing Record 22 of Set 2 : roald\n",
      "Processing Record 23 of Set 2 : raudeberg\n",
      "Processing Record 24 of Set 2 : ushuaia\n",
      "Processing Record 25 of Set 2 : bengkulu\n",
      "City not found. Skipping...\n",
      "Processing Record 26 of Set 2 : lanzhou\n",
      "Processing Record 27 of Set 2 : saskylakh\n",
      "Processing Record 28 of Set 2 : van wert\n",
      "Processing Record 29 of Set 2 : south sioux city\n",
      "Processing Record 30 of Set 2 : ribeira grande\n",
      "Processing Record 31 of Set 2 : qaqortoq\n",
      "City not found. Skipping...\n",
      "Processing Record 32 of Set 2 : codrington\n",
      "Processing Record 33 of Set 2 : necochea\n",
      "Processing Record 34 of Set 2 : lodja\n",
      "Processing Record 35 of Set 2 : san patricio\n",
      "Processing Record 36 of Set 2 : talnakh\n",
      "City not found. Skipping...\n",
      "Processing Record 37 of Set 2 : bana\n",
      "Processing Record 38 of Set 2 : leander\n",
      "City not found. Skipping...\n",
      "Processing Record 39 of Set 2 : colesberg\n",
      "Processing Record 40 of Set 2 : gavle\n",
      "Processing Record 41 of Set 2 : saint george\n",
      "Processing Record 42 of Set 2 : elliot\n",
      "Processing Record 43 of Set 2 : portland\n",
      "Processing Record 44 of Set 2 : tuktoyaktuk\n",
      "Processing Record 45 of Set 2 : fairbanks\n",
      "Processing Record 46 of Set 2 : hermanus\n",
      "Processing Record 47 of Set 2 : ballina\n",
      "Processing Record 48 of Set 2 : susuman\n",
      "Processing Record 49 of Set 2 : samarai\n",
      "Processing Record 50 of Set 2 : qui nhon\n",
      "Processing Record 0 of Set 3 : isla vista\n",
      "Processing Record 1 of Set 3 : faya\n",
      "Processing Record 2 of Set 3 : port elizabeth\n",
      "Processing Record 3 of Set 3 : magadan\n",
      "Processing Record 4 of Set 3 : lorengau\n",
      "Processing Record 5 of Set 3 : geraldton\n",
      "Processing Record 6 of Set 3 : marystown\n",
      "Processing Record 7 of Set 3 : santa rosalia\n",
      "Processing Record 8 of Set 3 : khatanga\n",
      "Processing Record 9 of Set 3 : beringovskiy\n",
      "Processing Record 10 of Set 3 : hasaki\n",
      "Processing Record 11 of Set 3 : luderitz\n",
      "Processing Record 12 of Set 3 : new norfolk\n",
      "Processing Record 13 of Set 3 : marabba\n",
      "Processing Record 14 of Set 3 : troitskiy\n",
      "Processing Record 15 of Set 3 : conde\n",
      "Processing Record 16 of Set 3 : coaraci\n",
      "Processing Record 17 of Set 3 : port lincoln\n",
      "Processing Record 18 of Set 3 : salalah\n",
      "Processing Record 19 of Set 3 : santa cruz\n",
      "Processing Record 20 of Set 3 : cherskiy\n",
      "Processing Record 21 of Set 3 : wanaka\n",
      "Processing Record 22 of Set 3 : nuuk\n",
      "Processing Record 23 of Set 3 : rio grande\n",
      "Processing Record 24 of Set 3 : tutoia\n",
      "Processing Record 25 of Set 3 : chokurdakh\n",
      "Processing Record 26 of Set 3 : zharkent\n",
      "Processing Record 27 of Set 3 : zeya\n",
      "Processing Record 28 of Set 3 : nishihara\n",
      "Processing Record 29 of Set 3 : joniskis\n",
      "Processing Record 30 of Set 3 : thinadhoo\n",
      "Processing Record 31 of Set 3 : nikolskoye\n",
      "Processing Record 32 of Set 3 : nizhniy ingash\n",
      "City not found. Skipping...\n",
      "City not found. Skipping...\n",
      "City not found. Skipping...\n",
      "Processing Record 33 of Set 3 : lukovetskiy\n",
      "Processing Record 34 of Set 3 : fortuna\n",
      "City not found. Skipping...\n",
      "Processing Record 35 of Set 3 : lipari\n",
      "Processing Record 36 of Set 3 : berlevag\n",
      "City not found. Skipping...\n",
      "Processing Record 37 of Set 3 : yar-sale\n",
      "Processing Record 38 of Set 3 : yellowknife\n",
      "Processing Record 39 of Set 3 : grindavik\n",
      "Processing Record 40 of Set 3 : sept-iles\n",
      "Processing Record 41 of Set 3 : kimparana\n",
      "Processing Record 42 of Set 3 : mar del plata\n",
      "Processing Record 43 of Set 3 : kanniyakumari\n",
      "Processing Record 44 of Set 3 : chuy\n",
      "Processing Record 45 of Set 3 : gazli\n",
      "Processing Record 46 of Set 3 : ushumun\n",
      "Processing Record 47 of Set 3 : saldanha\n",
      "Processing Record 48 of Set 3 : ponta do sol\n",
      "Processing Record 49 of Set 3 : coquimbo\n",
      "Processing Record 50 of Set 3 : cabo san lucas\n",
      "Processing Record 0 of Set 4 : gat\n",
      "Processing Record 1 of Set 4 : nemsova\n",
      "City not found. Skipping...\n",
      "Processing Record 2 of Set 4 : khandyga\n",
      "Processing Record 3 of Set 4 : narsaq\n",
      "Processing Record 4 of Set 4 : malpura\n",
      "Processing Record 5 of Set 4 : aldan\n",
      "Processing Record 6 of Set 4 : artigas\n",
      "Processing Record 7 of Set 4 : nanortalik\n",
      "Processing Record 8 of Set 4 : teknaf\n",
      "Processing Record 9 of Set 4 : prince rupert\n",
      "Processing Record 10 of Set 4 : watsa\n",
      "Processing Record 11 of Set 4 : antofagasta\n",
      "Processing Record 12 of Set 4 : tilichiki\n",
      "Processing Record 13 of Set 4 : khlung\n",
      "Processing Record 14 of Set 4 : arraial do cabo\n",
      "City not found. Skipping...\n",
      "Processing Record 15 of Set 4 : general roca\n",
      "Processing Record 16 of Set 4 : dikson\n",
      "Processing Record 17 of Set 4 : angoram\n",
      "Processing Record 18 of Set 4 : karaton\n",
      "City not found. Skipping...\n",
      "City not found. Skipping...\n",
      "Processing Record 19 of Set 4 : sao jose da coroa grande\n",
      "Processing Record 20 of Set 4 : karratha\n",
      "Processing Record 21 of Set 4 : lasa\n",
      "Processing Record 22 of Set 4 : vicuna\n",
      "Processing Record 23 of Set 4 : tasiilaq\n",
      "Processing Record 24 of Set 4 : uruzgan\n",
      "Processing Record 25 of Set 4 : asfi\n",
      "Processing Record 26 of Set 4 : merritt\n",
      "Processing Record 27 of Set 4 : torbay\n"
     ]
    },
    {
     "name": "stdout",
     "output_type": "stream",
     "text": [
      "Processing Record 28 of Set 4 : snasa\n",
      "City not found. Skipping...\n",
      "Processing Record 29 of Set 4 : san juan\n",
      "Processing Record 30 of Set 4 : horqueta\n",
      "Processing Record 31 of Set 4 : lemon tree passage\n",
      "Processing Record 32 of Set 4 : klaksvik\n",
      "Processing Record 33 of Set 4 : alofi\n",
      "Processing Record 34 of Set 4 : bourail\n",
      "Processing Record 35 of Set 4 : bolotesti\n",
      "Processing Record 36 of Set 4 : provideniya\n",
      "Processing Record 37 of Set 4 : silvan\n",
      "Processing Record 38 of Set 4 : taltal\n",
      "Processing Record 39 of Set 4 : bereda\n",
      "Processing Record 40 of Set 4 : lincoln\n",
      "Processing Record 41 of Set 4 : hay river\n",
      "Processing Record 42 of Set 4 : ushibuka\n",
      "Processing Record 43 of Set 4 : casablanca\n",
      "Processing Record 44 of Set 4 : baoning\n",
      "Processing Record 45 of Set 4 : genhe\n",
      "Processing Record 46 of Set 4 : fengrun\n",
      "Processing Record 47 of Set 4 : tanout\n",
      "Processing Record 48 of Set 4 : san quintin\n",
      "Processing Record 49 of Set 4 : ranong\n",
      "Processing Record 50 of Set 4 : lompoc\n",
      "Processing Record 0 of Set 5 : west wendover\n",
      "Processing Record 1 of Set 5 : thompson\n",
      "Processing Record 2 of Set 5 : lahij\n",
      "Processing Record 3 of Set 5 : husavik\n",
      "Processing Record 4 of Set 5 : georgetown\n",
      "Processing Record 5 of Set 5 : alice springs\n",
      "Processing Record 6 of Set 5 : mahebourg\n",
      "Processing Record 7 of Set 5 : melbourne\n",
      "Processing Record 8 of Set 5 : nicoya\n",
      "Processing Record 9 of Set 5 : monchique\n",
      "Processing Record 10 of Set 5 : diu\n",
      "City not found. Skipping...\n",
      "Processing Record 11 of Set 5 : chumikan\n",
      "Processing Record 12 of Set 5 : bestobe\n",
      "Processing Record 13 of Set 5 : nome\n",
      "Processing Record 14 of Set 5 : trinidad\n",
      "Processing Record 15 of Set 5 : olafsvik\n",
      "Processing Record 16 of Set 5 : sao joao da barra\n",
      "Processing Record 17 of Set 5 : dakar\n",
      "Processing Record 18 of Set 5 : tiznit\n",
      "Processing Record 19 of Set 5 : yerbogachen\n",
      "Processing Record 20 of Set 5 : kununurra\n",
      "Processing Record 21 of Set 5 : truckee\n",
      "Processing Record 22 of Set 5 : alanya\n",
      "Processing Record 23 of Set 5 : okhotsk\n",
      "Processing Record 24 of Set 5 : areka\n",
      "Processing Record 25 of Set 5 : barrow\n",
      "Processing Record 26 of Set 5 : teykovo\n",
      "Processing Record 27 of Set 5 : rincon\n",
      "Processing Record 28 of Set 5 : entre rios\n",
      "Processing Record 29 of Set 5 : airai\n",
      "Processing Record 30 of Set 5 : harper\n",
      "Processing Record 31 of Set 5 : usolye\n",
      "Processing Record 32 of Set 5 : impfondo\n",
      "Processing Record 33 of Set 5 : padang\n",
      "City not found. Skipping...\n",
      "Processing Record 34 of Set 5 : kyaikto\n",
      "Processing Record 35 of Set 5 : chateaubelair\n",
      "Processing Record 36 of Set 5 : lisburn\n",
      "Processing Record 37 of Set 5 : longyearbyen\n",
      "Processing Record 38 of Set 5 : linxia\n",
      "Processing Record 39 of Set 5 : sinnamary\n",
      "Processing Record 40 of Set 5 : norman wells\n",
      "Processing Record 41 of Set 5 : kaitangata\n",
      "Processing Record 42 of Set 5 : svetlaya\n",
      "Processing Record 43 of Set 5 : bilibino\n",
      "Processing Record 44 of Set 5 : inhambane\n",
      "Processing Record 45 of Set 5 : maragogi\n",
      "Processing Record 46 of Set 5 : hailey\n",
      "Processing Record 47 of Set 5 : vila franca do campo\n",
      "City not found. Skipping...\n",
      "Processing Record 48 of Set 5 : esso\n",
      "Processing Record 49 of Set 5 : uvarovo\n",
      "City not found. Skipping...\n",
      "Processing Record 50 of Set 5 : rudnogorsk\n",
      "City not found. Skipping...\n",
      "Processing Record 0 of Set 6 : veere\n",
      "Processing Record 1 of Set 6 : cayenne\n",
      "Processing Record 2 of Set 6 : saint-philippe\n",
      "Processing Record 3 of Set 6 : coihaique\n",
      "Processing Record 4 of Set 6 : tomari\n",
      "Processing Record 5 of Set 6 : dandong\n",
      "Processing Record 6 of Set 6 : qasigiannguit\n",
      "Processing Record 7 of Set 6 : ayan\n",
      "Processing Record 8 of Set 6 : bambanglipuro\n",
      "Processing Record 9 of Set 6 : saint-pierre\n",
      "Processing Record 10 of Set 6 : sitka\n",
      "Processing Record 11 of Set 6 : oranjestad\n",
      "Processing Record 12 of Set 6 : san cristobal\n",
      "Processing Record 13 of Set 6 : bodden town\n",
      "Processing Record 14 of Set 6 : bambous virieux\n",
      "Processing Record 15 of Set 6 : korla\n",
      "Processing Record 16 of Set 6 : constitucion\n",
      "Processing Record 17 of Set 6 : turayf\n",
      "Processing Record 18 of Set 6 : hualmay\n",
      "Processing Record 19 of Set 6 : tumaco\n",
      "Processing Record 20 of Set 6 : flinders\n",
      "Processing Record 21 of Set 6 : shenzhen\n",
      "Processing Record 22 of Set 6 : panzhihua\n",
      "Processing Record 23 of Set 6 : armidale\n",
      "Processing Record 24 of Set 6 : ginda\n",
      "Processing Record 25 of Set 6 : norfolk\n",
      "Processing Record 26 of Set 6 : sur\n",
      "Processing Record 27 of Set 6 : batemans bay\n",
      "Processing Record 28 of Set 6 : yumen\n",
      "Processing Record 29 of Set 6 : paamiut\n",
      "Processing Record 30 of Set 6 : mjolby\n",
      "Processing Record 31 of Set 6 : naze\n",
      "Processing Record 32 of Set 6 : ahuimanu\n",
      "Processing Record 33 of Set 6 : tecoanapa\n",
      "Processing Record 34 of Set 6 : lavrentiya\n",
      "Processing Record 35 of Set 6 : udachnyy\n",
      "Processing Record 36 of Set 6 : palafrugell\n",
      "Processing Record 37 of Set 6 : kiama\n",
      "Processing Record 38 of Set 6 : college\n",
      "Processing Record 39 of Set 6 : pevek\n",
      "Processing Record 40 of Set 6 : bawku\n",
      "Processing Record 41 of Set 6 : kieta\n",
      "Processing Record 42 of Set 6 : havelock\n",
      "Processing Record 43 of Set 6 : sabha\n",
      "Processing Record 44 of Set 6 : edd\n",
      "Processing Record 45 of Set 6 : mardin\n",
      "City not found. Skipping...\n",
      "Processing Record 46 of Set 6 : jian\n",
      "Processing Record 47 of Set 6 : kushiro\n",
      "Processing Record 48 of Set 6 : hadejia\n",
      "Processing Record 49 of Set 6 : moose factory\n",
      "Processing Record 50 of Set 6 : indian head\n",
      "Processing Record 0 of Set 7 : mount isa\n",
      "Processing Record 1 of Set 7 : tongliao\n",
      "City not found. Skipping...\n",
      "City not found. Skipping...\n",
      "Processing Record 2 of Set 7 : salinas\n",
      "Processing Record 3 of Set 7 : skibbereen\n",
      "Processing Record 4 of Set 7 : babanka\n",
      "Processing Record 5 of Set 7 : boa vista\n",
      "Processing Record 6 of Set 7 : shingu\n",
      "Processing Record 7 of Set 7 : lixourion\n",
      "Processing Record 8 of Set 7 : kamenka\n",
      "Processing Record 9 of Set 7 : haines city\n",
      "City not found. Skipping...\n",
      "Processing Record 10 of Set 7 : linqiong\n",
      "Processing Record 11 of Set 7 : ketchikan\n",
      "Processing Record 12 of Set 7 : saint-georges\n",
      "Processing Record 13 of Set 7 : semey\n",
      "Processing Record 14 of Set 7 : nhulunbuy\n",
      "Processing Record 15 of Set 7 : balikpapan\n",
      "Processing Record 16 of Set 7 : alihe\n",
      "Processing Record 17 of Set 7 : bathsheba\n",
      "Processing Record 18 of Set 7 : thyboron\n",
      "Processing Record 19 of Set 7 : opuwo\n",
      "Processing Record 20 of Set 7 : pangnirtung\n",
      "City not found. Skipping...\n",
      "Processing Record 21 of Set 7 : banda aceh\n",
      "City not found. Skipping...\n",
      "Processing Record 22 of Set 7 : tiksi\n",
      "Processing Record 23 of Set 7 : comodoro rivadavia\n",
      "Processing Record 24 of Set 7 : bandarbeyla\n",
      "Processing Record 25 of Set 7 : wiang sa\n",
      "Processing Record 26 of Set 7 : bosanski novi\n",
      "Processing Record 27 of Set 7 : andros town\n",
      "Processing Record 28 of Set 7 : rundu\n",
      "Processing Record 29 of Set 7 : dunedin\n",
      "Processing Record 30 of Set 7 : ono\n",
      "Processing Record 31 of Set 7 : sysert\n",
      "City not found. Skipping...\n",
      "Processing Record 32 of Set 7 : zhangye\n",
      "Processing Record 33 of Set 7 : santa maria\n",
      "City not found. Skipping...\n",
      "Processing Record 34 of Set 7 : tual\n",
      "Processing Record 35 of Set 7 : musoma\n",
      "Processing Record 36 of Set 7 : yomou\n",
      "Processing Record 37 of Set 7 : navahrudak\n",
      "Processing Record 38 of Set 7 : port hedland\n",
      "Processing Record 39 of Set 7 : rio gallegos\n",
      "Processing Record 40 of Set 7 : velyka bahachka\n",
      "Processing Record 41 of Set 7 : peniche\n",
      "Processing Record 42 of Set 7 : horsham\n",
      "Processing Record 43 of Set 7 : dmitriyevka\n",
      "Processing Record 44 of Set 7 : praia da vitoria\n",
      "Processing Record 45 of Set 7 : huejucar\n",
      "City not found. Skipping...\n",
      "Processing Record 46 of Set 7 : maumere\n",
      "Processing Record 47 of Set 7 : las palmas\n",
      "Processing Record 48 of Set 7 : caravelas\n",
      "City not found. Skipping...\n",
      "City not found. Skipping...\n",
      "Processing Record 49 of Set 7 : coruripe\n",
      "Processing Record 50 of Set 7 : avera\n",
      "Processing Record 0 of Set 8 : bayan\n",
      "Processing Record 1 of Set 8 : varniai\n",
      "Processing Record 2 of Set 8 : labuhan\n",
      "Processing Record 3 of Set 8 : luwingu\n",
      "Processing Record 4 of Set 8 : deer lake\n",
      "Processing Record 5 of Set 8 : chapais\n",
      "Processing Record 6 of Set 8 : haines junction\n",
      "Processing Record 7 of Set 8 : venice\n",
      "Processing Record 8 of Set 8 : henties bay\n",
      "Processing Record 9 of Set 8 : xai-xai\n",
      "Processing Record 10 of Set 8 : macheta\n",
      "Processing Record 11 of Set 8 : jiazi\n",
      "Processing Record 12 of Set 8 : hamirpur\n"
     ]
    },
    {
     "name": "stdout",
     "output_type": "stream",
     "text": [
      "Processing Record 13 of Set 8 : dembi dolo\n",
      "Processing Record 14 of Set 8 : isangel\n",
      "Processing Record 15 of Set 8 : sundargarh\n",
      "Processing Record 16 of Set 8 : surin\n",
      "Processing Record 17 of Set 8 : ampanihy\n",
      "Processing Record 18 of Set 8 : kushima\n",
      "Processing Record 19 of Set 8 : sorong\n",
      "Processing Record 20 of Set 8 : worthington\n",
      "Processing Record 21 of Set 8 : palmerston\n",
      "Processing Record 22 of Set 8 : ankazoabo\n",
      "Processing Record 23 of Set 8 : nyrob\n",
      "City not found. Skipping...\n",
      "Processing Record 24 of Set 8 : byron bay\n",
      "Processing Record 25 of Set 8 : nouakchott\n",
      "Processing Record 26 of Set 8 : komsomolskiy\n",
      "Processing Record 27 of Set 8 : nouadhibou\n",
      "Processing Record 28 of Set 8 : quatre cocos\n",
      "Processing Record 29 of Set 8 : mayenne\n",
      "Processing Record 30 of Set 8 : chowchilla\n",
      "Processing Record 31 of Set 8 : nanakuli\n",
      "Processing Record 32 of Set 8 : vila\n",
      "Processing Record 33 of Set 8 : kaeo\n",
      "Processing Record 34 of Set 8 : dicabisagan\n",
      "Processing Record 35 of Set 8 : cavalcante\n",
      "Processing Record 36 of Set 8 : angoche\n",
      "Processing Record 37 of Set 8 : ziyang\n",
      "Processing Record 38 of Set 8 : key west\n",
      "Processing Record 39 of Set 8 : camacha\n",
      "City not found. Skipping...\n",
      "Processing Record 40 of Set 8 : fort nelson\n",
      "Processing Record 41 of Set 8 : vestmannaeyjar\n",
      "Processing Record 42 of Set 8 : valparaiso\n",
      "Processing Record 43 of Set 8 : namwala\n",
      "Processing Record 44 of Set 8 : garissa\n",
      "Processing Record 45 of Set 8 : sola\n",
      "Processing Record 46 of Set 8 : aksarka\n",
      "Processing Record 47 of Set 8 : puerto del rosario\n",
      "Processing Record 48 of Set 8 : morada nova\n",
      "Processing Record 49 of Set 8 : mana\n",
      "Processing Record 50 of Set 8 : half moon bay\n",
      "Processing Record 0 of Set 9 : poshekhonye\n",
      "Processing Record 1 of Set 9 : riyadh\n",
      "Processing Record 2 of Set 9 : narva-joesuu\n",
      "Processing Record 3 of Set 9 : carupano\n",
      "Processing Record 4 of Set 9 : port hardy\n",
      "Processing Record 5 of Set 9 : turangi\n",
      "Processing Record 6 of Set 9 : zyryanka\n",
      "Processing Record 7 of Set 9 : shetpe\n",
      "Processing Record 8 of Set 9 : vardo\n",
      "Processing Record 9 of Set 9 : buraydah\n",
      "Processing Record 10 of Set 9 : itoigawa\n",
      "City not found. Skipping...\n",
      "Processing Record 11 of Set 9 : belaya gora\n",
      "Processing Record 12 of Set 9 : nadym\n",
      "Processing Record 13 of Set 9 : ladybrand\n",
      "Processing Record 14 of Set 9 : falun\n",
      "Processing Record 15 of Set 9 : casay\n",
      "Processing Record 16 of Set 9 : agadez\n",
      "Processing Record 17 of Set 9 : nelson bay\n",
      "Processing Record 18 of Set 9 : faanui\n",
      "Processing Record 19 of Set 9 : pisco\n",
      "Processing Record 20 of Set 9 : puerto baquerizo moreno\n",
      "Processing Record 21 of Set 9 : arlit\n",
      "Processing Record 22 of Set 9 : valdosta\n",
      "Processing Record 23 of Set 9 : tefe\n",
      "Processing Record 24 of Set 9 : khandbari\n",
      "Processing Record 25 of Set 9 : wamba\n",
      "Processing Record 26 of Set 9 : ancud\n",
      "Processing Record 27 of Set 9 : monrovia\n",
      "Processing Record 28 of Set 9 : marsa matruh\n",
      "Processing Record 29 of Set 9 : terney\n",
      "Processing Record 30 of Set 9 : muisne\n",
      "Processing Record 31 of Set 9 : madimba\n",
      "Processing Record 32 of Set 9 : botou\n",
      "Processing Record 33 of Set 9 : auki\n",
      "Processing Record 34 of Set 9 : evensk\n",
      "Processing Record 35 of Set 9 : saint-paul\n",
      "City not found. Skipping...\n",
      "Processing Record 36 of Set 9 : te anau\n",
      "Processing Record 37 of Set 9 : misratah\n",
      "Processing Record 38 of Set 9 : tema\n",
      "Processing Record 39 of Set 9 : kasongo\n",
      "Processing Record 40 of Set 9 : mitsamiouli\n",
      "Processing Record 41 of Set 9 : presidente medici\n",
      "Processing Record 42 of Set 9 : leningradskiy\n",
      "Processing Record 43 of Set 9 : vanavara\n",
      "Processing Record 44 of Set 9 : okha\n",
      "Processing Record 45 of Set 9 : port pirie\n",
      "Processing Record 46 of Set 9 : la antigua\n",
      "Processing Record 47 of Set 9 : ayolas\n",
      "Processing Record 48 of Set 9 : teguldet\n",
      "Processing Record 49 of Set 9 : tuatapere\n",
      "Processing Record 50 of Set 9 : adrar\n",
      "Processing Record 0 of Set 10 : kloulklubed\n",
      "Processing Record 1 of Set 10 : novobirilyussy\n",
      "Processing Record 2 of Set 10 : noumea\n",
      "Processing Record 3 of Set 10 : lynn haven\n",
      "Processing Record 4 of Set 10 : ullapool\n",
      "Processing Record 5 of Set 10 : tahta\n",
      "Processing Record 6 of Set 10 : miri\n",
      "Processing Record 7 of Set 10 : brunico\n",
      "Processing Record 8 of Set 10 : cozumel\n",
      "Processing Record 9 of Set 10 : santa ines\n",
      "Processing Record 10 of Set 10 : barranco\n",
      "Processing Record 11 of Set 10 : bonavista\n",
      "Processing Record 12 of Set 10 : ilorin\n",
      "Processing Record 13 of Set 10 : calvillo\n",
      "Processing Record 14 of Set 10 : baker city\n",
      "Processing Record 15 of Set 10 : santa helena\n",
      "Processing Record 16 of Set 10 : seoul\n",
      "City not found. Skipping...\n",
      "Processing Record 17 of Set 10 : manta\n",
      "Processing Record 18 of Set 10 : maraba\n",
      "Processing Record 19 of Set 10 : montepuez\n",
      "Processing Record 20 of Set 10 : hobyo\n",
      "Processing Record 21 of Set 10 : laguna\n",
      "City not found. Skipping...\n",
      "Processing Record 22 of Set 10 : vaitape\n",
      "Processing Record 23 of Set 10 : rodino\n",
      "Processing Record 24 of Set 10 : kirkenaer\n",
      "Processing Record 25 of Set 10 : rossosh\n",
      "Processing Record 26 of Set 10 : bingol\n",
      "Processing Record 27 of Set 10 : zhigansk\n",
      "Processing Record 28 of Set 10 : lata\n",
      "Processing Record 29 of Set 10 : vao\n",
      "Processing Record 30 of Set 10 : mareeba\n",
      "Processing Record 31 of Set 10 : barranca\n",
      "Processing Record 32 of Set 10 : poum\n",
      "City not found. Skipping...\n",
      "Processing Record 33 of Set 10 : yamada\n",
      "Processing Record 34 of Set 10 : port hueneme\n",
      "Processing Record 35 of Set 10 : ixtapa\n",
      "Processing Record 36 of Set 10 : bonthe\n",
      "Processing Record 37 of Set 10 : baiyin\n",
      "Processing Record 38 of Set 10 : andenes\n",
      "Processing Record 39 of Set 10 : aitape\n",
      "City not found. Skipping...\n",
      "Processing Record 40 of Set 10 : venado tuerto\n",
      "Processing Record 41 of Set 10 : zhezkazgan\n",
      "Processing Record 42 of Set 10 : esmeraldas\n",
      "Processing Record 43 of Set 10 : stykkisholmur\n",
      "Processing Record 44 of Set 10 : kenai\n",
      "Processing Record 45 of Set 10 : arica\n",
      "Processing Record 46 of Set 10 : valle hermoso\n",
      "Processing Record 47 of Set 10 : cairns\n",
      "Processing Record 48 of Set 10 : los llanos de aridane\n",
      "Processing Record 49 of Set 10 : changqing\n",
      "Processing Record 50 of Set 10 : konstantinovka\n",
      "Processing Record 0 of Set 11 : pangoa\n",
      "Processing Record 1 of Set 11 : neiafu\n",
      "Processing Record 2 of Set 11 : ossora\n",
      "City not found. Skipping...\n",
      "Processing Record 3 of Set 11 : barabinsk\n",
      "Processing Record 4 of Set 11 : marienburg\n",
      "Processing Record 5 of Set 11 : merthyr tydfil\n",
      "City not found. Skipping...\n",
      "Processing Record 6 of Set 11 : benjamin hill\n",
      "Processing Record 7 of Set 11 : yeppoon\n",
      "Processing Record 8 of Set 11 : ilhabela\n",
      "Processing Record 9 of Set 11 : tarrega\n",
      "Processing Record 10 of Set 11 : severiano melo\n",
      "Processing Record 11 of Set 11 : masuguru\n",
      "Processing Record 12 of Set 11 : storforshei\n",
      "Processing Record 13 of Set 11 : saint anthony\n",
      "Processing Record 14 of Set 11 : hambantota\n",
      "Processing Record 15 of Set 11 : isla mujeres\n",
      "Processing Record 16 of Set 11 : anadyr\n",
      "Processing Record 17 of Set 11 : dauphin\n",
      "Processing Record 18 of Set 11 : darhan\n",
      "City not found. Skipping...\n",
      "Processing Record 19 of Set 11 : jieshi\n",
      "Processing Record 20 of Set 11 : asau\n",
      "Processing Record 21 of Set 11 : nieuw amsterdam\n",
      "Processing Record 22 of Set 11 : nandikotkur\n",
      "Processing Record 23 of Set 11 : weatherford\n",
      "Processing Record 24 of Set 11 : arecibo\n",
      "Processing Record 25 of Set 11 : chimoio\n",
      "Processing Record 26 of Set 11 : lauria\n",
      "Processing Record 27 of Set 11 : iskateley\n",
      "Processing Record 28 of Set 11 : fertorakos\n",
      "City not found. Skipping...\n",
      "Processing Record 29 of Set 11 : semnan\n",
      "Processing Record 30 of Set 11 : soverato\n",
      "Processing Record 31 of Set 11 : salym\n",
      "Processing Record 32 of Set 11 : brokopondo\n",
      "Processing Record 33 of Set 11 : galesong\n",
      "Processing Record 34 of Set 11 : gawler\n",
      "City not found. Skipping...\n",
      "Processing Record 35 of Set 11 : burnie\n",
      "Processing Record 36 of Set 11 : weymouth\n",
      "Processing Record 37 of Set 11 : pimenta bueno\n",
      "Processing Record 38 of Set 11 : bac lieu\n",
      "City not found. Skipping...\n",
      "Processing Record 39 of Set 11 : verkhnyaya inta\n",
      "Processing Record 40 of Set 11 : ulladulla\n",
      "Processing Record 41 of Set 11 : otavi\n",
      "Processing Record 42 of Set 11 : wajima\n",
      "Processing Record 43 of Set 11 : nioro\n",
      "Processing Record 44 of Set 11 : weligama\n",
      "Processing Record 45 of Set 11 : insar\n",
      "Processing Record 46 of Set 11 : altamira\n",
      "Processing Record 47 of Set 11 : ayorou\n"
     ]
    },
    {
     "name": "stdout",
     "output_type": "stream",
     "text": [
      "Processing Record 48 of Set 11 : mainburg\n",
      "Processing Record 49 of Set 11 : bad doberan\n",
      "Processing Record 50 of Set 11 : kodinsk\n",
      "Processing Record 0 of Set 12 : ponta delgada\n",
      "Processing Record 1 of Set 12 : bonnyville\n",
      "Processing Record 2 of Set 12 : vila velha\n",
      "Processing Record 3 of Set 12 : doha\n",
      "Processing Record 4 of Set 12 : golden\n",
      "Processing Record 5 of Set 12 : aklavik\n",
      "Processing Record 6 of Set 12 : naryshkino\n",
      "-------------------------------\n",
      "Data Retrieval Complete\n",
      "--------------------------------\n"
     ]
    }
   ],
   "source": [
    "print(\"Beginning Data Retrieval \")\n",
    "print(\"-----------------------------\")\n",
    "\n",
    "# For each city name in cities list\n",
    "for index, city in enumerate(cities, start = 1):\n",
    "    try:\n",
    "        response = requests.get(query_url + city).json()\n",
    "        city_name_list.append(response[\"name\"])\n",
    "        cloudiness_list.append(response[\"clouds\"][\"all\"])\n",
    "        country_list.append(response[\"sys\"][\"country\"])\n",
    "        date_list.append(response[\"dt\"])\n",
    "        humidity_list.append(response[\"main\"][\"humidity\"])\n",
    "        lat_list.append(response[\"coord\"][\"lat\"])\n",
    "        lng_list.append(response[\"coord\"][\"lon\"])\n",
    "        max_temp_list.append(response['main']['temp_max'])\n",
    "        wind_speed_list.append(response[\"wind\"][\"speed\"])\n",
    "        if index_counter > 49:\n",
    "            index_counter = 0\n",
    "            set_counter = set_counter + 1\n",
    "            \n",
    "        else:\n",
    "            index_counter = index_counter + 1\n",
    "            \n",
    "        print(f\"Processing Record {index_counter} of Set {set_counter} : {city}\") \n",
    "  \n",
    "    except(KeyError, IndexError):\n",
    "        print(\"City not found. Skipping...\")\n",
    "\n",
    "print(\"-------------------------------\")\n",
    "print(\"Data Retrieval Complete\")\n",
    "print(\"--------------------------------\")"
   ]
  },
  {
   "cell_type": "markdown",
   "metadata": {},
   "source": [
    "### Convert Raw Data to DataFrame\n",
    "* Export the city data into a .csv.\n",
    "* Display the DataFrame"
   ]
  },
  {
   "cell_type": "code",
   "execution_count": 6,
   "metadata": {},
   "outputs": [],
   "source": [
    "# Create the data frame\n",
    "weather_data = pd.DataFrame({ \n",
    "                \"City\" : city_name_list,\n",
    "                \"Cloudiness\" : cloudiness_list,\n",
    "                \"Country\" : country_list,\n",
    "                \"Date\" : date_list,\n",
    "                \"Humidity\" : humidity_list,\n",
    "                \"Lat\" : lat_list,\n",
    "                \"Lng\" : lng_list,\n",
    "                \"Max Temp\" : max_temp_list,\n",
    "                \"Wind Speed\" : wind_speed_list\n",
    "})"
   ]
  },
  {
   "cell_type": "code",
   "execution_count": 7,
   "metadata": {},
   "outputs": [
    {
     "name": "stdout",
     "output_type": "stream",
     "text": [
      "<class 'pandas.core.frame.DataFrame'>\n",
      "RangeIndex: 567 entries, 0 to 566\n",
      "Data columns (total 9 columns):\n",
      " #   Column      Non-Null Count  Dtype  \n",
      "---  ------      --------------  -----  \n",
      " 0   City        567 non-null    object \n",
      " 1   Cloudiness  567 non-null    int64  \n",
      " 2   Country     567 non-null    object \n",
      " 3   Date        567 non-null    int64  \n",
      " 4   Humidity    567 non-null    int64  \n",
      " 5   Lat         567 non-null    float64\n",
      " 6   Lng         567 non-null    float64\n",
      " 7   Max Temp    567 non-null    float64\n",
      " 8   Wind Speed  567 non-null    float64\n",
      "dtypes: float64(4), int64(3), object(2)\n",
      "memory usage: 40.0+ KB\n"
     ]
    }
   ],
   "source": [
    "weather_data.info()"
   ]
  },
  {
   "cell_type": "code",
   "execution_count": 8,
   "metadata": {},
   "outputs": [
    {
     "data": {
      "text/html": [
       "<div>\n",
       "<style scoped>\n",
       "    .dataframe tbody tr th:only-of-type {\n",
       "        vertical-align: middle;\n",
       "    }\n",
       "\n",
       "    .dataframe tbody tr th {\n",
       "        vertical-align: top;\n",
       "    }\n",
       "\n",
       "    .dataframe thead th {\n",
       "        text-align: right;\n",
       "    }\n",
       "</style>\n",
       "<table border=\"1\" class=\"dataframe\">\n",
       "  <thead>\n",
       "    <tr style=\"text-align: right;\">\n",
       "      <th></th>\n",
       "      <th>City</th>\n",
       "      <th>Cloudiness</th>\n",
       "      <th>Country</th>\n",
       "      <th>Date</th>\n",
       "      <th>Humidity</th>\n",
       "      <th>Lat</th>\n",
       "      <th>Lng</th>\n",
       "      <th>Max Temp</th>\n",
       "      <th>Wind Speed</th>\n",
       "    </tr>\n",
       "  </thead>\n",
       "  <tbody>\n",
       "    <tr>\n",
       "      <th>0</th>\n",
       "      <td>Hobart</td>\n",
       "      <td>20</td>\n",
       "      <td>AU</td>\n",
       "      <td>1659931831</td>\n",
       "      <td>69</td>\n",
       "      <td>-42.8794</td>\n",
       "      <td>147.3294</td>\n",
       "      <td>52.27</td>\n",
       "      <td>5.75</td>\n",
       "    </tr>\n",
       "    <tr>\n",
       "      <th>1</th>\n",
       "      <td>Souillac</td>\n",
       "      <td>9</td>\n",
       "      <td>MU</td>\n",
       "      <td>1659931861</td>\n",
       "      <td>78</td>\n",
       "      <td>-20.5167</td>\n",
       "      <td>57.5167</td>\n",
       "      <td>69.91</td>\n",
       "      <td>7.99</td>\n",
       "    </tr>\n",
       "    <tr>\n",
       "      <th>2</th>\n",
       "      <td>Hong Kong</td>\n",
       "      <td>60</td>\n",
       "      <td>HK</td>\n",
       "      <td>1659931842</td>\n",
       "      <td>89</td>\n",
       "      <td>22.2855</td>\n",
       "      <td>114.1577</td>\n",
       "      <td>84.38</td>\n",
       "      <td>5.99</td>\n",
       "    </tr>\n",
       "    <tr>\n",
       "      <th>3</th>\n",
       "      <td>Kanlagay</td>\n",
       "      <td>91</td>\n",
       "      <td>PH</td>\n",
       "      <td>1659931861</td>\n",
       "      <td>66</td>\n",
       "      <td>5.8757</td>\n",
       "      <td>121.2915</td>\n",
       "      <td>84.29</td>\n",
       "      <td>4.43</td>\n",
       "    </tr>\n",
       "    <tr>\n",
       "      <th>4</th>\n",
       "      <td>Vaini</td>\n",
       "      <td>20</td>\n",
       "      <td>TO</td>\n",
       "      <td>1659931861</td>\n",
       "      <td>94</td>\n",
       "      <td>-21.2000</td>\n",
       "      <td>-175.2000</td>\n",
       "      <td>78.96</td>\n",
       "      <td>9.22</td>\n",
       "    </tr>\n",
       "  </tbody>\n",
       "</table>\n",
       "</div>"
      ],
      "text/plain": [
       "        City  Cloudiness Country        Date  Humidity      Lat       Lng  \\\n",
       "0     Hobart          20      AU  1659931831        69 -42.8794  147.3294   \n",
       "1   Souillac           9      MU  1659931861        78 -20.5167   57.5167   \n",
       "2  Hong Kong          60      HK  1659931842        89  22.2855  114.1577   \n",
       "3   Kanlagay          91      PH  1659931861        66   5.8757  121.2915   \n",
       "4      Vaini          20      TO  1659931861        94 -21.2000 -175.2000   \n",
       "\n",
       "   Max Temp  Wind Speed  \n",
       "0     52.27        5.75  \n",
       "1     69.91        7.99  \n",
       "2     84.38        5.99  \n",
       "3     84.29        4.43  \n",
       "4     78.96        9.22  "
      ]
     },
     "execution_count": 8,
     "metadata": {},
     "output_type": "execute_result"
    }
   ],
   "source": [
    "# Display the Data Frame\n",
    "weather_data.head()"
   ]
  },
  {
   "cell_type": "markdown",
   "metadata": {},
   "source": [
    "## Inspect the data and remove the cities where the humidity > 100%.\n",
    "----\n",
    "Skip this step if there are no cities that have humidity > 100%. "
   ]
  },
  {
   "cell_type": "code",
   "execution_count": 9,
   "metadata": {},
   "outputs": [
    {
     "data": {
      "text/html": [
       "<div>\n",
       "<style scoped>\n",
       "    .dataframe tbody tr th:only-of-type {\n",
       "        vertical-align: middle;\n",
       "    }\n",
       "\n",
       "    .dataframe tbody tr th {\n",
       "        vertical-align: top;\n",
       "    }\n",
       "\n",
       "    .dataframe thead th {\n",
       "        text-align: right;\n",
       "    }\n",
       "</style>\n",
       "<table border=\"1\" class=\"dataframe\">\n",
       "  <thead>\n",
       "    <tr style=\"text-align: right;\">\n",
       "      <th></th>\n",
       "      <th>Cloudiness</th>\n",
       "      <th>Date</th>\n",
       "      <th>Humidity</th>\n",
       "      <th>Lat</th>\n",
       "      <th>Lng</th>\n",
       "      <th>Max Temp</th>\n",
       "      <th>Wind Speed</th>\n",
       "    </tr>\n",
       "  </thead>\n",
       "  <tbody>\n",
       "    <tr>\n",
       "      <th>count</th>\n",
       "      <td>567.000000</td>\n",
       "      <td>5.670000e+02</td>\n",
       "      <td>567.000000</td>\n",
       "      <td>567.000000</td>\n",
       "      <td>567.000000</td>\n",
       "      <td>567.000000</td>\n",
       "      <td>567.000000</td>\n",
       "    </tr>\n",
       "    <tr>\n",
       "      <th>mean</th>\n",
       "      <td>51.738977</td>\n",
       "      <td>1.659932e+09</td>\n",
       "      <td>72.128748</td>\n",
       "      <td>19.926335</td>\n",
       "      <td>20.009572</td>\n",
       "      <td>68.615432</td>\n",
       "      <td>8.066173</td>\n",
       "    </tr>\n",
       "    <tr>\n",
       "      <th>std</th>\n",
       "      <td>39.497939</td>\n",
       "      <td>1.594630e+02</td>\n",
       "      <td>19.702272</td>\n",
       "      <td>33.714297</td>\n",
       "      <td>92.121552</td>\n",
       "      <td>13.783243</td>\n",
       "      <td>5.763811</td>\n",
       "    </tr>\n",
       "    <tr>\n",
       "      <th>min</th>\n",
       "      <td>0.000000</td>\n",
       "      <td>1.659931e+09</td>\n",
       "      <td>1.000000</td>\n",
       "      <td>-54.800000</td>\n",
       "      <td>-175.200000</td>\n",
       "      <td>32.900000</td>\n",
       "      <td>0.000000</td>\n",
       "    </tr>\n",
       "    <tr>\n",
       "      <th>25%</th>\n",
       "      <td>9.000000</td>\n",
       "      <td>1.659932e+09</td>\n",
       "      <td>62.000000</td>\n",
       "      <td>-9.406100</td>\n",
       "      <td>-58.103850</td>\n",
       "      <td>58.210000</td>\n",
       "      <td>3.815000</td>\n",
       "    </tr>\n",
       "    <tr>\n",
       "      <th>50%</th>\n",
       "      <td>54.000000</td>\n",
       "      <td>1.659932e+09</td>\n",
       "      <td>76.000000</td>\n",
       "      <td>24.700000</td>\n",
       "      <td>20.040300</td>\n",
       "      <td>70.520000</td>\n",
       "      <td>6.760000</td>\n",
       "    </tr>\n",
       "    <tr>\n",
       "      <th>75%</th>\n",
       "      <td>95.000000</td>\n",
       "      <td>1.659932e+09</td>\n",
       "      <td>87.000000</td>\n",
       "      <td>49.787300</td>\n",
       "      <td>103.772050</td>\n",
       "      <td>79.845000</td>\n",
       "      <td>11.020000</td>\n",
       "    </tr>\n",
       "    <tr>\n",
       "      <th>max</th>\n",
       "      <td>100.000000</td>\n",
       "      <td>1.659932e+09</td>\n",
       "      <td>100.000000</td>\n",
       "      <td>78.218600</td>\n",
       "      <td>179.316700</td>\n",
       "      <td>97.810000</td>\n",
       "      <td>36.930000</td>\n",
       "    </tr>\n",
       "  </tbody>\n",
       "</table>\n",
       "</div>"
      ],
      "text/plain": [
       "       Cloudiness          Date    Humidity         Lat         Lng  \\\n",
       "count  567.000000  5.670000e+02  567.000000  567.000000  567.000000   \n",
       "mean    51.738977  1.659932e+09   72.128748   19.926335   20.009572   \n",
       "std     39.497939  1.594630e+02   19.702272   33.714297   92.121552   \n",
       "min      0.000000  1.659931e+09    1.000000  -54.800000 -175.200000   \n",
       "25%      9.000000  1.659932e+09   62.000000   -9.406100  -58.103850   \n",
       "50%     54.000000  1.659932e+09   76.000000   24.700000   20.040300   \n",
       "75%     95.000000  1.659932e+09   87.000000   49.787300  103.772050   \n",
       "max    100.000000  1.659932e+09  100.000000   78.218600  179.316700   \n",
       "\n",
       "         Max Temp  Wind Speed  \n",
       "count  567.000000  567.000000  \n",
       "mean    68.615432    8.066173  \n",
       "std     13.783243    5.763811  \n",
       "min     32.900000    0.000000  \n",
       "25%     58.210000    3.815000  \n",
       "50%     70.520000    6.760000  \n",
       "75%     79.845000   11.020000  \n",
       "max     97.810000   36.930000  "
      ]
     },
     "execution_count": 9,
     "metadata": {},
     "output_type": "execute_result"
    }
   ],
   "source": [
    "weather_data.describe()"
   ]
  },
  {
   "cell_type": "code",
   "execution_count": 10,
   "metadata": {},
   "outputs": [
    {
     "data": {
      "text/html": [
       "<div>\n",
       "<style scoped>\n",
       "    .dataframe tbody tr th:only-of-type {\n",
       "        vertical-align: middle;\n",
       "    }\n",
       "\n",
       "    .dataframe tbody tr th {\n",
       "        vertical-align: top;\n",
       "    }\n",
       "\n",
       "    .dataframe thead th {\n",
       "        text-align: right;\n",
       "    }\n",
       "</style>\n",
       "<table border=\"1\" class=\"dataframe\">\n",
       "  <thead>\n",
       "    <tr style=\"text-align: right;\">\n",
       "      <th></th>\n",
       "      <th>City</th>\n",
       "      <th>Cloudiness</th>\n",
       "      <th>Country</th>\n",
       "      <th>Date</th>\n",
       "      <th>Humidity</th>\n",
       "      <th>Lat</th>\n",
       "      <th>Lng</th>\n",
       "      <th>Max Temp</th>\n",
       "      <th>Wind Speed</th>\n",
       "    </tr>\n",
       "  </thead>\n",
       "  <tbody>\n",
       "  </tbody>\n",
       "</table>\n",
       "</div>"
      ],
      "text/plain": [
       "Empty DataFrame\n",
       "Columns: [City, Cloudiness, Country, Date, Humidity, Lat, Lng, Max Temp, Wind Speed]\n",
       "Index: []"
      ]
     },
     "execution_count": 10,
     "metadata": {},
     "output_type": "execute_result"
    }
   ],
   "source": [
    "#  Get the indices of cities that have humidity over 100%.\n",
    "weather_data.loc[weather_data['Humidity']>100,:]"
   ]
  },
  {
   "cell_type": "code",
   "execution_count": 11,
   "metadata": {},
   "outputs": [],
   "source": [
    "# Save city data into a csv file\n",
    "weather_data.to_csv(\"../output_data/cities.csv\", index = False)"
   ]
  },
  {
   "cell_type": "markdown",
   "metadata": {},
   "source": [
    "## Plotting the Data\n",
    "* Use proper labeling of the plots using plot titles (including date of analysis) and axes labels.\n",
    "* Save the plotted figures as .pngs."
   ]
  },
  {
   "cell_type": "markdown",
   "metadata": {},
   "source": [
    "## Latitude vs. Temperature Plot"
   ]
  },
  {
   "cell_type": "code",
   "execution_count": 12,
   "metadata": {},
   "outputs": [
    {
     "data": {
      "image/png": "[encoded data removed]",
      "text/plain": [
       "<Figure size 432x288 with 1 Axes>"
      ]
     },
     "metadata": {
      "needs_background": "light"
     },
     "output_type": "display_data"
    }
   ],
   "source": [
    "# Create Latitude vs. Temperature Plot scatter plot\n",
    "plt.scatter(weather_data[\"Lat\"], weather_data[\"Max Temp\"], facecolor = \"blue\", edgecolor = \"black\")\n",
    "\n",
    "# Set the title\n",
    "plt.title(\"City Latitude vs. Max Temperature (08/07/22)\")\n",
    "\n",
    "# Set x axis label\n",
    "plt.xlabel(\"Latitude\")\n",
    "\n",
    "# Set y axis label\n",
    "plt.ylabel(\"Max Temperature (F)\")\n",
    "\n",
    "# Set grid line\n",
    "plt.grid(linestyle='-', linewidth=1, alpha = 0.6)\n",
    "\n",
    "# Save the figure\n",
    "plt.savefig(\"../Images/City Latitude vs Max Temperature.png\")"
   ]
  },
  {
   "cell_type": "markdown",
   "metadata": {},
   "source": [
    "The temprerature and latitude both increase until the latitude reaches to 39-40, then the temperature declines as the latitude drops."
   ]
  },
  {
   "cell_type": "markdown",
   "metadata": {},
   "source": [
    "## Latitude vs. Humidity Plot"
   ]
  },
  {
   "cell_type": "code",
   "execution_count": 13,
   "metadata": {},
   "outputs": [
    {
     "data": {
      "image/png": "[encoded data removed]",
      "text/plain": [
       "<Figure size 432x288 with 1 Axes>"
      ]
     },
     "metadata": {
      "needs_background": "light"
     },
     "output_type": "display_data"
    }
   ],
   "source": [
    "# Create Plot scatter plot\n",
    "plt.scatter(weather_data[\"Lat\"], weather_data[\"Humidity\"], facecolor = \"blue\", edgecolor = \"black\")\n",
    "\n",
    "# Set title\n",
    "plt.title(\"City Latitude vs. Humidity (08/07/22)\")\n",
    "\n",
    "# Set x axis label\n",
    "plt.xlabel(\"Laitude\")\n",
    "\n",
    "# Set y axis label\n",
    "plt.ylabel(\"Humidity (%)\")\n",
    "\n",
    "# Set grid line\n",
    "plt.grid(linestyle='-', linewidth=1, alpha = 0.5)\n",
    "\n",
    "# Save the figure\n",
    "plt.savefig(\"../Images/City Latitude vs. Humidity.png\")"
   ]
  },
  {
   "cell_type": "markdown",
   "metadata": {},
   "source": [
    "The graph indicates there is not a significant correlation between humidity and latitude."
   ]
  },
  {
   "cell_type": "markdown",
   "metadata": {},
   "source": [
    "## Latitude vs. Cloudiness Plot"
   ]
  },
  {
   "cell_type": "code",
   "execution_count": 14,
   "metadata": {},
   "outputs": [
    {
     "data": {
      "image/png": "[encoded data removed]",
      "text/plain": [
       "<Figure size 432x288 with 1 Axes>"
      ]
     },
     "metadata": {
      "needs_background": "light"
     },
     "output_type": "display_data"
    }
   ],
   "source": [
    "# Create Latitude vs. Cloudiness Plot scatter plot\n",
    "plt.scatter(weather_data[\"Lat\"], weather_data[\"Cloudiness\"], facecolor = \"blue\", edgecolor = \"black\")\n",
    "\n",
    "# Set title\n",
    "plt.title(\"City Latitude vs. Cloudiness (08/07/22)\")\n",
    "\n",
    "# Set x axis label\n",
    "plt.xlabel(\"Laitude\")\n",
    "\n",
    "# Set y axis label\n",
    "plt.ylabel(\"Cloudiness (%)\")\n",
    "\n",
    "# Set y axis limit\n",
    "plt.ylim(-5,105)\n",
    "\n",
    "# Set grid line\n",
    "plt.grid(linestyle='-', linewidth=1, alpha = 0.6)\n",
    "\n",
    "# Save the figure\n",
    "plt.savefig(\"../Images/City Latitude vs. Cloudiness.png\")"
   ]
  },
  {
   "cell_type": "markdown",
   "metadata": {},
   "source": [
    "The cloudiness data is widely spread across the latitude, and this shows there is not any correlation between Cloudiness and latitude.\n"
   ]
  },
  {
   "cell_type": "markdown",
   "metadata": {},
   "source": [
    "## Latitude vs. Wind Speed Plot"
   ]
  },
  {
   "cell_type": "code",
   "execution_count": 15,
   "metadata": {},
   "outputs": [
    {
     "data": {
      "image/png": "[encoded data removed]",
      "text/plain": [
       "<Figure size 432x288 with 1 Axes>"
      ]
     },
     "metadata": {
      "needs_background": "light"
     },
     "output_type": "display_data"
    }
   ],
   "source": [
    "# Create Latitude vs. Wind Speed scatter plot\n",
    "plt.scatter(weather_data[\"Lat\"], weather_data[\"Wind Speed\"], facecolor = \"blue\", edgecolor = \"black\")\n",
    "\n",
    "plt.title(\"City Latitude vs. Wind Speed (mph) (08/07/22)\")\n",
    "\n",
    "# Set x axis label\n",
    "plt.xlabel(\"Laitude\")\n",
    "\n",
    "# Set y axis label\n",
    "plt.ylabel(\"Wind Speed (%)\")\n",
    "\n",
    "# Set y axis limit\n",
    "plt.ylim(-2,60)\n",
    "\n",
    "# Set grid line\n",
    "plt.grid(linestyle='-', linewidth=1, alpha = 0.6)\n",
    "\n",
    "# Save the figure\n",
    "plt.savefig(\"../Images/City Latitude vs. Wind Speed.png\")"
   ]
  },
  {
   "cell_type": "markdown",
   "metadata": {},
   "source": [
    "There is no correlation between wind speed and cities latitude.\n"
   ]
  },
  {
   "cell_type": "markdown",
   "metadata": {},
   "source": [
    "## Linear Regression"
   ]
  },
  {
   "cell_type": "code",
   "execution_count": 16,
   "metadata": {},
   "outputs": [],
   "source": [
    "# Create Northern and Southern Hemisphere DataFrames\n",
    "northern_hemisphere = weather_data.loc[weather_data[\"Lat\"] >= 0]\n",
    "southern_hemisphere = weather_data.loc[weather_data[\"Lat\"] < 0]\n",
    "\n",
    "# Define function to create linear agression and scatter plot\n",
    "def linear_agression(x,y):\n",
    "    print(f\"The r-squared is : {round(st.pearsonr(x, y)[0],2)}\")\n",
    "    (slope, intercept, rvalue, pvalue, stderr) = linregress(x, y)\n",
    "    regress_values = x * slope + intercept\n",
    "    line_eq = \"y = \" + str(round(slope,2)) + \"x + \" + str(round(intercept,2))\n",
    "    plt.scatter(x, y)\n",
    "    plt.plot(x,regress_values,\"r-\")\n",
    "    return line_eq\n",
    "\n",
    "# Define a fuction for annotating\n",
    "def annotate(line_eq, a, b):\n",
    "    plt.annotate(line_eq,(a,b),fontsize=15,color=\"blue\")"
   ]
  },
  {
   "cell_type": "markdown",
   "metadata": {},
   "source": [
    "###  Northern Hemisphere - Max Temp vs. Latitude Linear Regression"
   ]
  },
  {
   "cell_type": "code",
   "execution_count": 17,
   "metadata": {},
   "outputs": [
    {
     "name": "stdout",
     "output_type": "stream",
     "text": [
      "The r-squared is : -0.65\n"
     ]
    },
    {
     "data": {
      "image/png": "[encoded data removed]",
      "text/plain": [
       "<Figure size 432x288 with 1 Axes>"
      ]
     },
     "metadata": {
      "needs_background": "light"
     },
     "output_type": "display_data"
    }
   ],
   "source": [
    "# Call an function #1\n",
    "equation = linear_agression(northern_hemisphere[\"Lat\"], northern_hemisphere[\"Max Temp\"])\n",
    "\n",
    "# Call an function #2\n",
    "annotate(equation, 0, 0)\n",
    "\n",
    "# Set a title\n",
    "plt.title(\"Northern Hemisphere - Max Temp vs. Latitude Linear Regression\")\n",
    "\n",
    "# Set xlabel\n",
    "plt.xlabel(\"Latitude\")\n",
    "\n",
    "# Set ylabel\n",
    "plt.ylabel(\"Max Temp (F)\")\n",
    "\n",
    "# Save the figure\n",
    "plt.savefig(\"../Images/Northern Hemisphere - Max Temp vs. Latitude Linear Regression.png\")"
   ]
  },
  {
   "cell_type": "markdown",
   "metadata": {},
   "source": [
    "There is a strong negative correlation between latitude and max temperature for northern hemisphere."
   ]
  },
  {
   "cell_type": "markdown",
   "metadata": {},
   "source": [
    "####  Southern Hemisphere - Max Temp vs. Latitude Linear Regression"
   ]
  },
  {
   "cell_type": "code",
   "execution_count": 18,
   "metadata": {},
   "outputs": [
    {
     "name": "stdout",
     "output_type": "stream",
     "text": [
      "The r-squared is : 0.8\n"
     ]
    },
    {
     "data": {
      "image/png": "[encoded data removed]",
      "text/plain": [
       "<Figure size 432x288 with 1 Axes>"
      ]
     },
     "metadata": {
      "needs_background": "light"
     },
     "output_type": "display_data"
    }
   ],
   "source": [
    "# Set function #1\n",
    "equation = linear_agression(southern_hemisphere[\"Lat\"],southern_hemisphere[\"Max Temp\"])\n",
    "\n",
    "# Set function #2\n",
    "annotate(equation, -30, 50)\n",
    "\n",
    "# Set a title\n",
    "plt.title(\"Southern Hemisphere - Max Temp vs. Latitude Linear Regression\")\n",
    "\n",
    "# Set xlabel\n",
    "plt.xlabel(\"Latitude\")\n",
    "\n",
    "# Set ylabel\n",
    "plt.ylabel(\"Max Temp (F)\")\n",
    "\n",
    "# Save the figure\n",
    "plt.savefig(\"../Images/Southern Hemisphere - Max Temp vs. Latitude Linear Regression.png\")"
   ]
  },
  {
   "cell_type": "markdown",
   "metadata": {},
   "source": [
    "This reflects a strong positive correlation between latitude and max temperature for southern hemisphere."
   ]
  },
  {
   "cell_type": "markdown",
   "metadata": {},
   "source": [
    "####  Northern Hemisphere - Humidity (%) vs. Latitude Linear Regression"
   ]
  },
  {
   "cell_type": "code",
   "execution_count": 19,
   "metadata": {
    "scrolled": true
   },
   "outputs": [
    {
     "name": "stdout",
     "output_type": "stream",
     "text": [
      "The r-squared is : -0.08\n"
     ]
    },
    {
     "data": {
      "image/png": "[encoded data removed]",
      "text/plain": [
       "<Figure size 432x288 with 1 Axes>"
      ]
     },
     "metadata": {
      "needs_background": "light"
     },
     "output_type": "display_data"
    }
   ],
   "source": [
    "# Call an function #1\n",
    "equation = linear_agression(northern_hemisphere[\"Lat\"], northern_hemisphere[\"Humidity\"])\n",
    "\n",
    "# Call an function #2\n",
    "annotate(equation, 40, 15)\n",
    "\n",
    "# Set a title\n",
    "plt.title(\"Northern Hemisphere - Humidity (%) vs. Latitude Linear Regression\")\n",
    "\n",
    "# Set xlabel\n",
    "plt.xlabel(\"Latitude\")\n",
    "\n",
    "# Set ylabel\n",
    "plt.ylabel(\"Humidity (%)\")\n",
    "\n",
    "# Save the figure\n",
    "plt.savefig(\"../Images/Northern Hemisphere - Humidity (%) vs. Latitude Linear Regression.png\")"
   ]
  },
  {
   "cell_type": "markdown",
   "metadata": {},
   "source": [
    "There is a moderate negative correlation between latitude and humidity for northern hemisphere."
   ]
  },
  {
   "cell_type": "markdown",
   "metadata": {},
   "source": [
    "### Southern Hemisphere - Humidity (%) vs. Latitude Linear Regression\n"
   ]
  },
  {
   "cell_type": "code",
   "execution_count": 20,
   "metadata": {},
   "outputs": [
    {
     "name": "stdout",
     "output_type": "stream",
     "text": [
      "The r-squared is : 0.01\n"
     ]
    },
    {
     "data": {
      "image/png": "[encoded data removed]",
      "text/plain": [
       "<Figure size 432x288 with 1 Axes>"
      ]
     },
     "metadata": {
      "needs_background": "light"
     },
     "output_type": "display_data"
    }
   ],
   "source": [
    "# Set function #1\n",
    "equation = linear_agression(southern_hemisphere[\"Lat\"], southern_hemisphere[\"Humidity\"])\n",
    "\n",
    "# Set function #2\n",
    "annotate(equation, -40, 50)\n",
    "\n",
    "# Set the title\n",
    "plt.title(\"Southern Hemisphere - Humidity (%) vs. Latitude Linear Regression\")\n",
    "\n",
    "# Set xlabel\n",
    "plt.xlabel(\"Latitude\")\n",
    "\n",
    "# Set ylabel\n",
    "plt.ylabel(\"Humidity (%)\")\n",
    "\n",
    "# Save the figure\n",
    "plt.savefig(\"../Images/Southern Hemisphere - Humidity (%) vs. Latitude Linear Regression.png\")"
   ]
  },
  {
   "cell_type": "markdown",
   "metadata": {},
   "source": [
    "There is a moderate negative correlation between latitude and humidity for southern hemisphere."
   ]
  },
  {
   "cell_type": "markdown",
   "metadata": {},
   "source": [
    "####  Northern Hemisphere - Cloudiness (%) vs. Latitude Linear Regression"
   ]
  },
  {
   "cell_type": "code",
   "execution_count": 21,
   "metadata": {},
   "outputs": [
    {
     "name": "stdout",
     "output_type": "stream",
     "text": [
      "The r-squared is : -0.03\n"
     ]
    },
    {
     "data": {
      "image/png": "[encoded data removed]",
      "text/plain": [
       "<Figure size 432x288 with 1 Axes>"
      ]
     },
     "metadata": {
      "needs_background": "light"
     },
     "output_type": "display_data"
    }
   ],
   "source": [
    "# Set Function #1\n",
    "equation = linear_agression(northern_hemisphere[\"Lat\"], northern_hemisphere[\"Cloudiness\"])\n",
    "\n",
    "# Set Function #2\n",
    "annotate(equation, 30, 40)\n",
    "\n",
    "# Set the title\n",
    "plt.title(\"Northern Hemisphere - Cloudiness (%) vs. Latitude Linear Regression\")\n",
    "\n",
    "# Set xlabel\n",
    "plt.xlabel(\"Latitude\")\n",
    "\n",
    "# Set ylabel\n",
    "plt.ylabel(\"Cloudiness (%)\")\n",
    "\n",
    "# Save the figure\n",
    "plt.savefig(\"../Images/Northern Hemisphere - Cloudiness (%) vs. Latitude Linear Regression.png\")"
   ]
  },
  {
   "cell_type": "markdown",
   "metadata": {},
   "source": [
    "There is no correlation between latitude and cloudiness for northern hemisphere."
   ]
  },
  {
   "cell_type": "markdown",
   "metadata": {},
   "source": [
    "####  Southern Hemisphere - Cloudiness (%) vs. Latitude Linear Regression"
   ]
  },
  {
   "cell_type": "code",
   "execution_count": 22,
   "metadata": {},
   "outputs": [
    {
     "name": "stdout",
     "output_type": "stream",
     "text": [
      "The r-squared is : 0.01\n"
     ]
    },
    {
     "data": {
      "image/png": "[encoded data removed]",
      "text/plain": [
       "<Figure size 432x288 with 1 Axes>"
      ]
     },
     "metadata": {
      "needs_background": "light"
     },
     "output_type": "display_data"
    }
   ],
   "source": [
    "# Set function #1\n",
    "equation = linear_agression(southern_hemisphere[\"Lat\"], southern_hemisphere[\"Cloudiness\"])\n",
    "\n",
    "# Set function #2\n",
    "annotate(equation, -30, 40)\n",
    "\n",
    "# Set a title\n",
    "plt.title(\"Southern Hemisphere - Cloudiness (%) vs. Latitude Linear Regression\")\n",
    "\n",
    "# Set xlabel\n",
    "plt.xlabel(\"Latitude\")\n",
    "\n",
    "# Set ylabel\n",
    "plt.ylabel(\"Cloudiness (%)\")\n",
    "\n",
    "# Save the figure\n",
    "plt.savefig(\"../Images/Southern Hemisphere - Cloudiness (%) vs. Latitude Linear Regression.png\")"
   ]
  },
  {
   "cell_type": "markdown",
   "metadata": {},
   "source": [
    "There is a weak positive correlation between latitude and cloudiness for Southern hemisphere."
   ]
  },
  {
   "cell_type": "markdown",
   "metadata": {},
   "source": [
    "####  Northern Hemisphere - Wind Speed (mph) vs. Latitude Linear Regression"
   ]
  },
  {
   "cell_type": "code",
   "execution_count": 23,
   "metadata": {},
   "outputs": [
    {
     "name": "stdout",
     "output_type": "stream",
     "text": [
      "The r-squared is : 0.02\n"
     ]
    },
    {
     "data": {
      "image/png": "[encoded data removed]",
      "text/plain": [
       "<Figure size 432x288 with 1 Axes>"
      ]
     },
     "metadata": {
      "needs_background": "light"
     },
     "output_type": "display_data"
    }
   ],
   "source": [
    "# Set function #1\n",
    "equation = linear_agression(northern_hemisphere[\"Lat\"], northern_hemisphere[\"Wind Speed\"])\n",
    "\n",
    "# Set function #2\n",
    "annotate(equation, 40, 20)\n",
    "\n",
    "# Set the title\n",
    "plt.title(\"Northern Hemisphere - Wind Speed (mph) vs. Latitude Linear Regression\")\n",
    "\n",
    "# Set xlabel\n",
    "plt.xlabel(\"Latitude\")\n",
    "\n",
    "# Set ylabel\n",
    "plt.ylabel(\"Wind Speed (mph)\")\n",
    "\n",
    "# Save the figure\n",
    "plt.savefig(\"../Images/Northern Hemisphere - Wind Speed (mph) vs. Latitude Linear Regression.png\")"
   ]
  },
  {
   "cell_type": "markdown",
   "metadata": {},
   "source": [
    "There is a moderate positive correlation between latitude and wind speed for Northern hemisphere."
   ]
  },
  {
   "cell_type": "markdown",
   "metadata": {},
   "source": [
    "####  Southern Hemisphere - Wind Speed (mph) vs. Latitude Linear Regression"
   ]
  },
  {
   "cell_type": "code",
   "execution_count": 24,
   "metadata": {
    "scrolled": true
   },
   "outputs": [
    {
     "name": "stdout",
     "output_type": "stream",
     "text": [
      "The r-squared is : -0.12\n"
     ]
    },
    {
     "data": {
      "image/png": "[encoded data removed]",
      "text/plain": [
       "<Figure size 432x288 with 1 Axes>"
      ]
     },
     "metadata": {
      "needs_background": "light"
     },
     "output_type": "display_data"
    }
   ],
   "source": [
    "# Set function #1\n",
    "equation = linear_agression(southern_hemisphere[\"Lat\"], southern_hemisphere[\"Wind Speed\"])\n",
    "\n",
    "# Set function #2\n",
    "annotate(equation, -30, 15)\n",
    "\n",
    "# Set the title\n",
    "plt.title(\"Southern Hemisphere - Wind Speed (mph) vs. Latitude Linear Regression\")\n",
    "\n",
    "# Set xlabel\n",
    "plt.xlabel(\"Latitude\")\n",
    "\n",
    "# Set ylabel\n",
    "plt.ylabel(\"Wind Speed (mph)\")\n",
    "\n",
    "# Save the figure\n",
    "plt.savefig(\"../Images/Southern Hemisphere - Wind Speed (mph) vs. Latitude Linear Regression.png\")"
   ]
  },
  {
   "cell_type": "markdown",
   "metadata": {},
   "source": [
    "There is a moderate negative correlation between latitude and wind speed for southern hemisphere."
   ]
  }
 ],
 "metadata": {
  "anaconda-cloud": {},
  "kernel_info": {
   "name": "python3"
  },
  "kernelspec": {
   "display_name": "Python 3 (ipykernel)",
   "language": "python",
   "name": "python3"
  },
  "language_info": {
   "codemirror_mode": {
    "name": "ipython",
    "version": 3
   },
   "file_extension": ".py",
   "mimetype": "text/x-python",
   "name": "python",
   "nbconvert_exporter": "python",
   "pygments_lexer": "ipython3",
   "version": "3.11.4"
  },
  "latex_envs": {
   "LaTeX_envs_menu_present": true,
   "autoclose": false,
   "autocomplete": true,
   "bibliofile": "biblio.bib",
   "cite_by": "apalike",
   "current_citInitial": 1,
   "eqLabelWithNumbers": true,
   "eqNumInitial": 1,
   "hotkeys": {
    "equation": "Ctrl-E",
    "itemize": "Ctrl-I"
   },
   "labels_anchors": false,
   "latex_user_defs": false,
   "report_style_numbering": false,
   "user_envs_cfg": false
  },
  "nteract": {
   "version": "0.12.3"
  }
 },
 "nbformat": 4,
 "nbformat_minor": 2
}
